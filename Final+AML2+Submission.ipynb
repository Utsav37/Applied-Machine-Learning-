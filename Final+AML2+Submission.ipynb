{
 "cells": [
  {
   "cell_type": "markdown",
   "metadata": {
    "colab_type": "text",
    "id": "R--G1S4LFVR9"
   },
   "source": [
    "<center>\n",
    "#CSCI-P556: Applied Machine Learning\n",
    "#Fall 2018\n",
    "#Assignment #2\n",
    "</center>\n",
    "---\n",
    "\n"
   ]
  },
  {
   "cell_type": "markdown",
   "metadata": {
    "colab_type": "text",
    "id": "Ooye3d-VGooZ"
   },
   "source": [
    "## Problem 1 (50 points)\n",
    "\n",
    "In this problem you will be working with Bank Marketing Dataset. We encourage your to look at the description and make yourself comfortable with it: https://archive.ics.uci.edu/ml/datasets/bank+marketing\n",
    "\n",
    "Two pairs of training and validation sets have been drawn from this dataset for you to work with, namely: \n",
    " -  `train_1.csv` and `valid_1.csv`\n",
    " -  `train_2.csv`and `valid_2.csv`\n",
    " \n",
    "Finally, we have also provided a `test.csv` which is common for both settings.\n",
    "\n",
    "### Task 0: (3 points)\n",
    "\n",
    "What is the difference between the two sets of train/validation sets? Write your answer here:\n",
    "\n",
    "### Ans: \n",
    "Overall speaking, the number of rows in train1 is nearly 6769 and in train2 we have 28937 rows. In valid1 we have 1693 rows and in valid2 we have 7234 rows. \n",
    "\n",
    "In train1.csv :we have labels yes- 3385 no-3384 , while in train2.csv we have  no-25549 yes-3385 which means that we have effectively more examples of no in train2.csv.\n",
    "\n",
    "Apart from this in valid_1.csv we have yes:846 and no:847 while in valid_2.csv we have yes: 846 and no: 6388, which might help us to infer that there are almost equal samples available for yes and no in train1 and valid1 while there are more no samples in valid2 and train2.\n",
    "\n"
   ]
  },
  {
   "cell_type": "code",
   "execution_count": 360,
   "metadata": {},
   "outputs": [],
   "source": [
    "import pandas as pd\n",
    "dftrain1=pd.read_csv(\"train_1.csv\")\n",
    "dftrain2=pd.read_csv(\"train_2.csv\")\n",
    "dfvalid1=pd.read_csv(\"valid_1.csv\")\n",
    "dfvalid2=pd.read_csv(\"valid_2.csv\")"
   ]
  },
  {
   "cell_type": "markdown",
   "metadata": {
    "colab_type": "text",
    "id": "MFKZT4mhJlSK"
   },
   "source": [
    "### Task 1 (Data Preprocessing) (12 points)\n",
    "\n",
    "Before you can train a machine learning model using this dataset, you will have to run a number of preprocessing steps to transform the data into a form which will be acceptable to the model. In this task, you are supposed to carry out the follow steps:\n",
    "\n",
    "1.  Find all features that have continuous numeric values and normalize them in the same way as you did in Assignment 1. List those features here.\n",
    "2. Find all categorical features and process them as was discussed in class. List those features and explain what you did.\n",
    "3. Are there any features which have missing values? (Hint: Missing values aren't always nicely represented and can be misleading sometimes). Find those features and explain how you will handle them.\n",
    "\n"
   ]
  },
  {
   "cell_type": "markdown",
   "metadata": {
    "colab_type": "text",
    "id": "uLoZ67_hPo9I"
   },
   "source": [
    "Write your text-based answers here.\n",
    "\n",
    "\n",
    "1.   Features with continuous numeric values are : ['age', 'balance', 'day', 'duration', 'campaign', 'pdays', 'previous']\n",
    "2.   Features with categorical values are : [ 'job', 'marital', 'education', 'default', 'housing',\n",
    "       'loan', 'contact', 'month', 'poutcome', 'y']\n",
    "       For job,marital,contact,poutcome,month,education I used One Hot encoding and for default,housing,loan,y I used simple encoding of 0-no and yes-1.\n",
    "       \n",
    "3.   There are no features with missing values(eg: Nan). But yes there are values with \"unknown\" as a value itself. \"education\" is having unknown as its value many times. I gave encoding of 0 to unknown value in education. Rest columns (job,poutcome, contact) I did OneHot Encoding and made seperate columns job_unknown,poutcome_unknown and contact_unknown) . \n",
    "\n"
   ]
  },
  {
   "cell_type": "code",
   "execution_count": 361,
   "metadata": {},
   "outputs": [],
   "source": [
    "# Task1 question 1 :\n",
    "contfeatures=['age', 'balance','day', 'duration', 'campaign', 'pdays', 'previous']\n",
    "n = len(contfeatures)\n",
    "mu=[0]*n\n",
    "sigma=[0]*n\n",
    "for i,x in enumerate(contfeatures):\n",
    "    mu[i]=dftrain1[x].mean()\n",
    "    sigma[i]=dftrain1[x].std()\n",
    "    dftrain1[x]=(dftrain1[x]-mu[i])/sigma[i]\n",
    "for i,x in enumerate(contfeatures):\n",
    "    mu[i]=dftrain2[x].mean()\n",
    "    sigma[i]=dftrain2[x].std()\n",
    "    dftrain2[x]=(dftrain2[x]-mu[i])/sigma[i]\n",
    "for i,x in enumerate(contfeatures):\n",
    "    mu[i]=dfvalid1[x].mean()\n",
    "    sigma[i]=dfvalid1[x].std()\n",
    "    dfvalid1[x]=(dfvalid1[x]-mu[i])/sigma[i]\n",
    "for i,x in enumerate(contfeatures):\n",
    "    mu[i]=dfvalid2[x].mean()\n",
    "    sigma[i]=dfvalid2[x].std()\n",
    "    dfvalid2[x]=(dfvalid2[x]-mu[i])/sigma[i]"
   ]
  },
  {
   "cell_type": "code",
   "execution_count": 362,
   "metadata": {
    "scrolled": true
   },
   "outputs": [],
   "source": [
    "dftrain1=pd.get_dummies(dftrain1, prefix=['job','marital','contact','poutcome','month','education'], prefix_sep='_', dummy_na=False, columns=['job','marital','contact','poutcome','month','education'], sparse=False, drop_first=False, dtype=None)\n",
    "dftrain2=pd.get_dummies(dftrain2, prefix=['job','marital','contact','poutcome','month','education'], prefix_sep='_', dummy_na=False, columns=['job','marital','contact','poutcome','month','education'], sparse=False, drop_first=False, dtype=None)\n",
    "dfvalid1=pd.get_dummies(dfvalid1, prefix=['job','marital','contact','poutcome','month','education'], prefix_sep='_', dummy_na=False, columns=['job','marital','contact','poutcome','month','education'], sparse=False, drop_first=False, dtype=None)\n",
    "dfvalid2=pd.get_dummies(dfvalid2, prefix=['job','marital','contact','poutcome','month','education'], prefix_sep='_', dummy_na=False, columns=['job','marital','contact','poutcome','month','education'], sparse=False, drop_first=False, dtype=None)"
   ]
  },
  {
   "cell_type": "code",
   "execution_count": 363,
   "metadata": {},
   "outputs": [],
   "source": [
    "dftrain1[\"default\"] = dftrain1[\"default\"].map({'yes': 1, 'no': 0})\n",
    "# dftrain1['default']\n",
    "dftrain1[\"housing\"] = dftrain1[\"housing\"].map({'yes': 1, 'no': 0})\n",
    "# dftrain1['housing']\n",
    "dftrain1[\"loan\"] = dftrain1[\"loan\"].map({'yes': 1, 'no': 0})\n",
    "# dftrain1['loan']\n",
    "dftrain1[\"y\"] = dftrain1[\"y\"].map({'yes': 1, 'no': 0})\n",
    "\n",
    "dftrain2[\"default\"] = dftrain2[\"default\"].map({'yes': 1, 'no': 0})\n",
    "dftrain2[\"housing\"] = dftrain2[\"housing\"].map({'yes': 1, 'no': 0})\n",
    "dftrain2[\"loan\"] = dftrain2[\"loan\"].map({'yes': 1, 'no': 0})\n",
    "dftrain2[\"y\"] = dftrain2[\"y\"].map({'yes': 1, 'no': 0})\n",
    "\n",
    "dfvalid1[\"default\"] = dfvalid1[\"default\"].map({'yes': 1, 'no': 0})\n",
    "dfvalid1[\"housing\"] =dfvalid1[\"housing\"].map({'yes': 1, 'no': 0})\n",
    "dfvalid1[\"loan\"] = dfvalid1[\"loan\"].map({'yes': 1, 'no': 0})\n",
    "dfvalid1[\"y\"] = dfvalid1[\"y\"].map({'yes': 1, 'no': 0})\n",
    "\n",
    "dfvalid2[\"default\"] = dfvalid2[\"default\"].map({'yes': 1, 'no': 0})\n",
    "dfvalid2[\"housing\"] =dfvalid2[\"housing\"].map({'yes': 1, 'no': 0})\n",
    "dfvalid2[\"loan\"] = dfvalid2[\"loan\"].map({'yes': 1, 'no': 0})\n",
    "dfvalid2[\"y\"] = dfvalid2[\"y\"].map({'yes': 1, 'no': 0})\n"
   ]
  },
  {
   "cell_type": "markdown",
   "metadata": {
    "colab_type": "text",
    "id": "5EaChdKLJjio"
   },
   "source": [
    "### Task 2 (Model $\\mathcal{A}$) (10 points)\n",
    "\n",
    "Train a logistic regression model with $L_2$ regularization on `train_1.csv` after applying the necessary preprocessing steps of Task 1. Use the validation set `valid_1.csv` to choose the best regularization coefficient $\\lambda$. Plot a curve with regularization coefficient in the X axis and the validation accuracy on the Y axis."
   ]
  },
  {
   "cell_type": "code",
   "execution_count": 364,
   "metadata": {},
   "outputs": [
    {
     "name": "stdout",
     "output_type": "stream",
     "text": [
      "Accuracy list index for maximum accuracy : 14\n",
      "Maximum Accuracy : 0.8186650915534555\n",
      "lambda value for maximum acccuracy is :  8.0\n"
     ]
    },
    {
     "data": {
      "image/png": "[encoded data removed]",
      "text/plain": [
       "<Figure size 432x288 with 1 Axes>"
      ]
     },
     "metadata": {},
     "output_type": "display_data"
    }
   ],
   "source": [
    "# dftrain1 already contains train1.csv\n",
    "# dfvalid1 already cntains valid1.csv\n",
    "from sklearn.linear_model import LogisticRegression\n",
    "from sklearn import metrics\n",
    "import numpy as np\n",
    "import matplotlib.pyplot as plt\n",
    "%matplotlib inline \n",
    "\n",
    "accuracylist=[]\n",
    "data=np.arange(1,100,0.5)\n",
    "lambdavalues=list(data)\n",
    "for i in range(len(lambdavalues)):\n",
    "    lambdaval=lambdavalues[i]\n",
    "    X=dftrain1.drop(['y'],axis=1)\n",
    "    y=dftrain1['y']\n",
    "    clf=LogisticRegression(penalty='l2',C= 1/lambdaval,max_iter=100).fit(X,y)\n",
    "    ypred=clf.predict(dfvalid1.drop(['y'],axis=1))\n",
    "    accuracy=metrics.accuracy_score(dfvalid1['y'],ypred)\n",
    "    accuracylist.append(accuracy)  \n",
    "    \n",
    "\n",
    "plt.xlabel(\"Lambda Value\")\n",
    "plt.ylabel(\"Accuracy\")\n",
    "plt.plot(lambdavalues,accuracylist)\n",
    "print(\"Accuracy list index for maximum accuracy :\",accuracylist.index(max(accuracylist)))\n",
    "print(\"Maximum Accuracy :\",max(accuracylist))\n",
    "print(\"lambda value for maximum acccuracy is : \",lambdavalues[accuracylist.index(max(accuracylist))])"
   ]
  },
  {
   "cell_type": "code",
   "execution_count": 365,
   "metadata": {
    "colab": {},
    "colab_type": "code",
    "id": "aQGJ10L-KhZh"
   },
   "outputs": [
    {
     "name": "stdout",
     "output_type": "stream",
     "text": [
      "0.8186650915534555\n"
     ]
    }
   ],
   "source": [
    "# Selecting best model in which I have best value of lambda and max_iter\n",
    "from sklearn.linear_model import LogisticRegression\n",
    "from sklearn import metrics\n",
    "lambdaval=8\n",
    "X=dftrain1.drop(['y'],axis=1)\n",
    "y=dftrain1['y']\n",
    "clf=LogisticRegression(penalty='l2',C=1/lambdaval).fit(X,y)\n",
    "# ‘newton-cg’, ‘lbfgs’, ‘liblinear’, ‘sag’, ‘saga’\n",
    "\n",
    "ypred=clf.predict(dfvalid1.drop(['y'],axis=1))\n",
    "accuracy=metrics.accuracy_score(ypred,dfvalid1['y'])\n",
    "print(accuracy)\n"
   ]
  },
  {
   "cell_type": "markdown",
   "metadata": {
    "colab_type": "text",
    "id": "c0UEYv92KnvQ"
   },
   "source": [
    "### Task 3 (Model $\\mathcal{B}$) (5 points)\n",
    "Train a logistic regression model with $L_2$ regularization on `train_2.csv` after applying the necessary preprocessing steps of Task 1. Use the validation set `valid_2.csv` to choose the best regularization coefficient $\\lambda$. Plot a curve with regularization coefficient in the X axis and the validation accuracy on the Y axis."
   ]
  },
  {
   "cell_type": "code",
   "execution_count": 366,
   "metadata": {
    "colab": {},
    "colab_type": "code",
    "id": "izeiBcCTLcM4"
   },
   "outputs": [
    {
     "name": "stdout",
     "output_type": "stream",
     "text": [
      "Accuracy list index for maximum accuracy : 25\n",
      "Maximum Accuracy : 0.9008847110865358\n",
      "lambda value for maximum acccuracy is :  26\n"
     ]
    },
    {
     "data": {
      "image/png": "[encoded data removed]",
      "text/plain": [
       "<Figure size 432x288 with 1 Axes>"
      ]
     },
     "metadata": {},
     "output_type": "display_data"
    }
   ],
   "source": [
    "# dftrain2 already contains train2.csv\n",
    "# dfvalid2 already contains valid2.csv\n",
    "from sklearn.linear_model import LogisticRegression\n",
    "from sklearn import metrics\n",
    "import numpy as np\n",
    "import matplotlib.pyplot as plt\n",
    "%matplotlib inline \n",
    "\n",
    "accuracylist=[]\n",
    "data=np.arange(1,100)\n",
    "lambdavalues=list(data)\n",
    "for i in range(len(lambdavalues)):\n",
    "    lambdaval=lambdavalues[i]\n",
    "    X=dftrain2.drop(['y'],axis=1)\n",
    "    y=dftrain2['y']\n",
    "    clf=LogisticRegression(penalty='l2',C= 1/lambdaval,max_iter=100).fit(X,y)\n",
    "    ypred=clf.predict(dfvalid2.drop(['y'],axis=1))\n",
    "    accuracy=metrics.accuracy_score(dfvalid2['y'],ypred)\n",
    "    accuracylist.append(accuracy)  \n",
    "    \n",
    "\n",
    "plt.xlabel(\"Lambda Value\")\n",
    "plt.ylabel(\"Accuracy\")\n",
    "plt.plot(lambdavalues,accuracylist)\n",
    "print(\"Accuracy list index for maximum accuracy :\",accuracylist.index(max(accuracylist)))\n",
    "print(\"Maximum Accuracy :\",max(accuracylist))\n",
    "print(\"lambda value for maximum acccuracy is : \",lambdavalues[accuracylist.index(max(accuracylist))])"
   ]
  },
  {
   "cell_type": "code",
   "execution_count": 367,
   "metadata": {},
   "outputs": [
    {
     "name": "stdout",
     "output_type": "stream",
     "text": [
      "0.9008847110865358\n"
     ]
    }
   ],
   "source": [
    "# Selecting best model in which I have best value of lambda and max_iter\n",
    "from sklearn.linear_model import LogisticRegression\n",
    "from sklearn import metrics\n",
    "lambdaval=26\n",
    "X=dftrain2.drop(['y'],axis=1)\n",
    "y=dftrain2['y']\n",
    "clf=LogisticRegression(penalty='l2',C=1/lambdaval).fit(X,y)\n",
    "# ‘newton-cg’, ‘lbfgs’, ‘liblinear’, ‘sag’, ‘saga’\n",
    "\n",
    "ypred=clf.predict(dfvalid2.drop(['y'],axis=1))\n",
    "accuracy=metrics.accuracy_score(ypred,dfvalid2['y'])\n",
    "print(accuracy)\n"
   ]
  },
  {
   "cell_type": "markdown",
   "metadata": {
    "colab_type": "text",
    "id": "8KzsVhHPLd3P"
   },
   "source": [
    "### Task 4 (Model $\\mathcal{C}$) (10 points)\n",
    "\n",
    "As you have seen in class, due to the specific (and smart) choice of the loss function, a logistic regression classifier happens to predict the posterioir probability $p(y|\\mathbf{x})$ for any given sample. It then classifies the samples with $p(y|\\mathbf{x}) > 0.5$ as belonging to class $1$ and the rest as belonging to class $0$. Instead, for a fixed threshold of $0.5$, let us consider a dynamic threshold of $\\theta$ which can be chosen after a model has been trained.\n",
    "\n",
    "$$\n",
    "\\ y=\n",
    "\\begin{cases}\n",
    "1 \\text{ if } p(y|\\mathbf{x}) \\geq \\theta \\\\\n",
    "\\\\\n",
    "0 \\text{ if } p(y|\\mathbf{x}) < \\theta \\\\\n",
    "\\end{cases}\n",
    "$$\n",
    "\n",
    "for $0 \\leq \\theta \\leq 1$.\n",
    "\n",
    "Train a logistic regression model with $L_2$ regularization on `train_2.csv` after applying the necessary preprocessing steps of Task 1. Use the validation set `valid_2.csv` to choose the best combination of regularization coefficient $\\lambda$ and the threshold $\\theta$. The best coefficients has to be selected by you after trying out at least five, non-consecutive values. Visualize all these runs.\n",
    "\n",
    "**Hint**: Look at the documentation of Logistic Regression in sci-kit learn to come up with a plan to implement this."
   ]
  },
  {
   "cell_type": "code",
   "execution_count": 368,
   "metadata": {
    "colab": {},
    "colab_type": "code",
    "id": "zJRVTjjrSTRm"
   },
   "outputs": [
    {
     "name": "stdout",
     "output_type": "stream",
     "text": [
      "maximum accuracy achieved is :  0.904202377661045\n",
      "lambda value achieved is : 3\n",
      "threshold value achieved is : 0.65\n"
     ]
    },
    {
     "data": {
      "image/png": "[encoded data removed]",
      "text/plain": [
       "<Figure size 432x288 with 1 Axes>"
      ]
     },
     "metadata": {},
     "output_type": "display_data"
    },
    {
     "name": "stdout",
     "output_type": "stream",
     "text": [
      "Note the 3D plot of lambda,threshold and accuracy. We notice that as lambda increases accuracy decreases. Thresholds are giving good resuts near 0.65 and Accuracy is high for low values of lambda and thresholds near 0.65\n"
     ]
    }
   ],
   "source": [
    "# Selecting best model in which I have best value of lambda and max_iter\n",
    "######################################################################\n",
    "# APPROACH: for lamba in 1 to 30:\n",
    "#               for threshold in arange(0,1,0.5)\n",
    "#                    logic::\n",
    "#               local maximum accuracy with lambda (same for all thresholds ie: 0,0.05,0.1,0.15,0.2...) and threshold\n",
    "#               Keeping this local maxima that we got in list : ie we will have lambda,pvalue at the end\n",
    "#           Finding global maximum accuracy from all lambda,pvalue pairs that we had\n",
    "#           NOTE: lambdalater,pvallater,accuracylater will have all values used for finding maximum globally\n",
    "#####################################################################\n",
    "from sklearn.linear_model import LogisticRegression\n",
    "from sklearn import metrics\n",
    "from sklearn.linear_model import LogisticRegression\n",
    "from sklearn import metrics\n",
    "import numpy as np\n",
    "import matplotlib.pyplot as plt\n",
    "%matplotlib inline \n",
    "# lambdalater will have all values of lambda\n",
    "lambdalater=[]\n",
    "# pvallater will consist of all values of pval(0.5,0.6....thresholds) which will give maximum accuracy for particular lambda\n",
    "pvallater=[]\n",
    "# accuracylater will have all values of accuracy which will be highest for particular lambda and threshold in the loop\n",
    "accuracylater=[]\n",
    "# NOTE: I tried all lambda values from 1 to 100 and corresponding all values of pval but lambda was still optimal at 3. So \n",
    "# in order to decrease computation time for Assignment grading, I reduced lambdavalues range to (1,30)\n",
    "data=np.arange(1,30)\n",
    "lambdavalues=list(data)\n",
    "\n",
    "for i in range(len(lambdavalues)):\n",
    "    lambdaval=lambdavalues[i]\n",
    "    \n",
    "    X=dftrain2.drop(['y'],axis=1)\n",
    "    y=dftrain2['y']\n",
    "    clf=LogisticRegression(penalty='l2',C= 1/lambdaval,max_iter=100).fit(X,y)\n",
    "    ypred=clf.predict_proba(dfvalid2.drop(['y'],axis=1))\n",
    "    \n",
    "    yprednewlocal=[]\n",
    "    localplist=[]\n",
    "    accuracylocal=0\n",
    "    accuracyforallpval=[]\n",
    "\n",
    "    for pval in np.arange(0,1,0.05):\n",
    "        localplist.append(pval)\n",
    "        yprednewlocal=[]\n",
    "        for i in range(len(ypred)):\n",
    "            if(ypred[i][0]>=pval):\n",
    "                yprednewlocal.append(0)\n",
    "            else:\n",
    "                yprednewlocal.append(1)\n",
    "#         yforgraph.append(yprednewlocal)\n",
    "        accuracylocal=metrics.accuracy_score(yprednewlocal,dfvalid2['y'])\n",
    "        accuracyforallpval.append(accuracylocal)\n",
    "    maxaccuracy = max(accuracyforallpval)\n",
    "    max_index = accuracyforallpval.index(maxaccuracy)\n",
    "    pvallater.append(localplist[max_index])\n",
    "    lambdalater.append(lambdaval)\n",
    "    accuracylater.append(maxaccuracy)\n",
    "\n",
    "max_index=accuracylater.index(max(accuracylater))    \n",
    "print(\"maximum accuracy achieved is : \",max(accuracylater))\n",
    "# print(\"maximum accuracy is achieved at index :\",max_index)\n",
    "print(\"lambda value achieved is :\",lambdalater[max_index])\n",
    "print(\"threshold value achieved is :\",pvallater[max_index])\n",
    "\n",
    "from mpl_toolkits.mplot3d import Axes3D\n",
    "import matplotlib.pyplot as plt\n",
    "\n",
    "fig = plt.figure()\n",
    "ax = fig.add_subplot(111, projection='3d')\n",
    "ax.scatter(lambdalater, pvallater, accuracylater, c='b', marker='o')\n",
    "\n",
    "ax.set_xlabel('Lambda Value')\n",
    "ax.set_ylabel('Threshold Value')\n",
    "ax.set_zlabel('Accuracy')\n",
    "\n",
    "plt.show()\n",
    "print(\"Note the 3D plot of lambda,threshold and accuracy. We notice that as lambda increases accuracy decreases. Thresholds are giving good resuts near 0.65 and Accuracy is high for low values of lambda and thresholds near 0.65\")"
   ]
  },
  {
   "cell_type": "code",
   "execution_count": 369,
   "metadata": {},
   "outputs": [
    {
     "name": "stdout",
     "output_type": "stream",
     "text": [
      "Accuracy achieved is :  0.904202377661045\n"
     ]
    }
   ],
   "source": [
    "#############################################\n",
    "# CONFIRMATION OF lambda:3 threshold 0.65 Accuracy: 0.90420 which we got in above step.\n",
    "# NOTE : This confirmation step may change if lambda,threshold values are different achieved in above cell.  \n",
    "#############################################\n",
    "from sklearn.linear_model import LogisticRegression\n",
    "from sklearn import metrics\n",
    "lambdaval=3\n",
    "X=dftrain2.drop(['y'],axis=1)\n",
    "y=dftrain2['y']\n",
    "clf=LogisticRegression(penalty='l2',C=1/lambdaval).fit(X,y)\n",
    "ypred=clf.predict_proba(dfvalid2.drop(['y'],axis=1))\n",
    "\n",
    "yprednew=[]\n",
    "\n",
    "for i in range(len(ypred)):\n",
    "    if(ypred[i][0]>=0.65):\n",
    "        yprednew.append(0)\n",
    "    else:\n",
    "        yprednew.append(1)\n",
    "print(\"Accuracy achieved is : \",metrics.accuracy_score(yprednew,dfvalid2['y']))\n"
   ]
  },
  {
   "cell_type": "markdown",
   "metadata": {
    "colab_type": "text",
    "id": "cTa2tMCPQmCV"
   },
   "source": [
    "### Task 5 (Report and Conclusion) (10 points)\n",
    "\n",
    "1.  Give a detailed report on the performance (that is, accuracy) of Models $\\mathcal{A}$, $\\mathcal{B}$ and $\\mathcal{C}$ on the respective training sets, the validation sets and finally the test. Explain any intuition you might have on what might be happening in each of the cases. Please avoid writing unnecessary details which are not pertinent.\n",
    "2.  Do you think accuracy, the metric which you have used to find the best hyperparameter in all the above tasks, a good metric in this scenario? Explain your choice.\n",
    "\n"
   ]
  },
  {
   "cell_type": "code",
   "execution_count": 370,
   "metadata": {},
   "outputs": [
    {
     "name": "stdout",
     "output_type": "stream",
     "text": [
      "ANSWER Task 5.1 ###################################################################################################\n",
      "############################ Performance of all models with Train Validation and Test Accuracy#####################\n",
      "###################################################################################################################\n",
      "            Train Error   Validation Error    Test Error\n",
      "MODEL A        0.8322        0.8187              0.7573  \n",
      "MODEL B        0.9017        0.9009              0.9004  \n",
      "MODEL C        0.9025        0.9042              0.9036  \n",
      "###################################################################################################################\n",
      "########################################## Intuition for Model A , B and C ######################################\n",
      "###################################################################################################################\n",
      "MODEL A: overfits the model somewhat because it has less training samples\n",
      "MODEL B: gives good result as there are more training data and as it uses best value among all possible values of lambda \n",
      "Model C: gives best result using Logistic regression as it uses large training data as well as it tunes both parameters threshold and lambda in order to achieve best accuracy as much as it can.\n",
      "\n",
      "Model A has less number of training samples(6769) as compared to training samples provided for Model B and Model C(28937). Now it is obvious to us that if a model is having more training data, the model will be more accurate. Thus Model B and Model C will be more accurate as compared to model A(provided we have applied same ML algorithm ie Logistic Regression)\n",
      "\n",
      "Thus Model B and C will have higher accuracy as compared to Model A as Model A overfits the data.\n",
      "\n",
      "Model B and Model C uses tuning of hyperparameter lambda for L2 regularization.Model B has slightly less accuracy as compared to Model C because Model C uses parameter tuning of lambda as well as threshold. In Model C we adjust almost all possibilities of threshold and lambda and at the end receive the best parameters for which we have high accuracy\n",
      "\n",
      " Thus Model C appears to have slightly more accuracy than Model B.\n",
      "\n",
      "###################################################################################################################\n",
      "ANSWER task 5.2  ####################################################################################################\n",
      "A BIG NO for \"Accuracy\" as a metric to evaluate models, especially in classification tasks. A single one line proof for Why I dont feel accuracy is a good parameter to evaluate this model on is : We have 28,934 total number of samples in train2.csv and almost 25549 are having \"no\" as target variable, which means 88% of samples are already negative. Now what happens is Suppose your model evaluates in terms of accuracy ,AND IF YOU DESIGN MODEL WHICH predicts ALL VALUES AS \"no\", what will happen is you will have accuracy of 88% . YIPIEEEEE. Is your classifier even doing anything? A BIG NO. Thus I feel accuracy is not a metric to evaluate a classification model\n",
      "\n",
      " IN short : If classifier predicts all values \"no\": Accuracy on train2 is nearly 88% which is totally unfair!!!\n",
      "Moreover It MIGHT be used when we have equal distribution of samples in YES AND NO target values in test dataset. And yes, this might not be the case all time. Thus I feel we should use precision and recall here instead of using accuracy as a metric. \n",
      "precision = TP/(TP + FP) and recall = TP/(TP + FN).SO precision is: \"out of all the examples the classifier labeled as positive, what fraction were correct?\" and recall is:\" out of all the positive examples there were, what fraction did the classifier pick up!!\"\n",
      "My point of view is we should tweak values of precision and recall and see what matters most to us in certain cases. Because what happens is according to different testcases, importance of precision and recall matters. The higher the vlaue of precision and recall, the better is the model. Moreover, we can also use F Measure or F Score which combines precision and recall into one metric. \n",
      "        Fmeasure = (2*precision*recall)/(precision+recall)  \n"
     ]
    }
   ],
   "source": [
    "####################################################################################################################\n",
    "############### Data  Preprocessing steps ##########################################################################\n",
    "from sklearn.linear_model import LogisticRegression\n",
    "from sklearn import metrics\n",
    "import numpy as np\n",
    "import matplotlib.pyplot as plt\n",
    "%matplotlib inline \n",
    "dftrain1=pd.read_csv(\"train_1.csv\")\n",
    "dftrain2=pd.read_csv(\"train_2.csv\")\n",
    "dfvalid1=pd.read_csv(\"valid_1.csv\")\n",
    "dfvalid2=pd.read_csv(\"valid_2.csv\")\n",
    "\n",
    "from sklearn.linear_model import LogisticRegression\n",
    "from sklearn import metrics\n",
    "import pandas as pd\n",
    "# Task1 question 1 :\n",
    "contfeatures=['age', 'balance','day', 'duration', 'campaign', 'pdays', 'previous']\n",
    "n = len(contfeatures)\n",
    "mu=[0]*n\n",
    "sigma=[0]*n\n",
    "for i,x in enumerate(contfeatures):\n",
    "    mu[i]=dftrain1[x].mean()\n",
    "    sigma[i]=dftrain1[x].std()\n",
    "    dftrain1[x]=(dftrain1[x]-mu[i])/sigma[i]\n",
    "for i,x in enumerate(contfeatures):\n",
    "    mu[i]=dftrain2[x].mean()\n",
    "    sigma[i]=dftrain2[x].std()\n",
    "    dftrain2[x]=(dftrain2[x]-mu[i])/sigma[i]\n",
    "for i,x in enumerate(contfeatures):\n",
    "    mu[i]=dfvalid1[x].mean()\n",
    "    sigma[i]=dfvalid1[x].std()\n",
    "    dfvalid1[x]=(dfvalid1[x]-mu[i])/sigma[i]\n",
    "for i,x in enumerate(contfeatures):\n",
    "    mu[i]=dfvalid2[x].mean()\n",
    "    sigma[i]=dfvalid2[x].std()\n",
    "    dfvalid2[x]=(dfvalid2[x]-mu[i])/sigma[i]\n",
    "dftrain1=pd.get_dummies(dftrain1, prefix=['job','marital','contact','poutcome','month','education'], prefix_sep='_', dummy_na=False, columns=['job','marital','contact','poutcome','month','education'], sparse=False, drop_first=False, dtype=None)\n",
    "dftrain2=pd.get_dummies(dftrain2, prefix=['job','marital','contact','poutcome','month','education'], prefix_sep='_', dummy_na=False, columns=['job','marital','contact','poutcome','month','education'], sparse=False, drop_first=False, dtype=None)\n",
    "dfvalid1=pd.get_dummies(dfvalid1, prefix=['job','marital','contact','poutcome','month','education'], prefix_sep='_', dummy_na=False, columns=['job','marital','contact','poutcome','month','education'], sparse=False, drop_first=False, dtype=None)\n",
    "dfvalid2=pd.get_dummies(dfvalid2, prefix=['job','marital','contact','poutcome','month','education'], prefix_sep='_', dummy_na=False, columns=['job','marital','contact','poutcome','month','education'], sparse=False, drop_first=False, dtype=None)\n",
    "\n",
    "dftrain1[\"default\"] = dftrain1[\"default\"].map({'yes': 1, 'no': 0})\n",
    "# dftrain1['default']\n",
    "dftrain1[\"housing\"] = dftrain1[\"housing\"].map({'yes': 1, 'no': 0})\n",
    "# dftrain1['housing']\n",
    "dftrain1[\"loan\"] = dftrain1[\"loan\"].map({'yes': 1, 'no': 0})\n",
    "# dftrain1['loan']\n",
    "dftrain1[\"y\"] = dftrain1[\"y\"].map({'yes': 1, 'no': 0})\n",
    "\n",
    "dftrain2[\"default\"] = dftrain2[\"default\"].map({'yes': 1, 'no': 0})\n",
    "dftrain2[\"housing\"] = dftrain2[\"housing\"].map({'yes': 1, 'no': 0})\n",
    "dftrain2[\"loan\"] = dftrain2[\"loan\"].map({'yes': 1, 'no': 0})\n",
    "dftrain2[\"y\"] = dftrain2[\"y\"].map({'yes': 1, 'no': 0})\n",
    "\n",
    "dfvalid1[\"default\"] = dfvalid1[\"default\"].map({'yes': 1, 'no': 0})\n",
    "dfvalid1[\"housing\"] =dfvalid1[\"housing\"].map({'yes': 1, 'no': 0})\n",
    "dfvalid1[\"loan\"] = dfvalid1[\"loan\"].map({'yes': 1, 'no': 0})\n",
    "dfvalid1[\"y\"] = dfvalid1[\"y\"].map({'yes': 1, 'no': 0})\n",
    "\n",
    "dfvalid2[\"default\"] = dfvalid2[\"default\"].map({'yes': 1, 'no': 0})\n",
    "dfvalid2[\"housing\"] =dfvalid2[\"housing\"].map({'yes': 1, 'no': 0})\n",
    "dfvalid2[\"loan\"] = dfvalid2[\"loan\"].map({'yes': 1, 'no': 0})\n",
    "dfvalid2[\"y\"] = dfvalid2[\"y\"].map({'yes': 1, 'no': 0})\n",
    "\n",
    "dftest=pd.read_csv('test.csv')\n",
    "contfeatures=['age', 'balance','day', 'duration', 'campaign', 'pdays', 'previous']\n",
    "n = len(contfeatures)\n",
    "mu=[0]*n\n",
    "sigma=[0]*n\n",
    "for i,x in enumerate(contfeatures):\n",
    "    mu[i]=dftest[x].mean()\n",
    "    sigma[i]=dftest[x].std()\n",
    "    dftest[x]=(dftest[x]-mu[i])/sigma[i]\n",
    "dftest=pd.get_dummies(dftest, prefix=['job','marital','contact','poutcome','month','education'], prefix_sep='_', dummy_na=False, columns=['job','marital','contact','poutcome','month','education'], sparse=False, drop_first=False, dtype=None)\n",
    "\n",
    "dftest[\"default\"] = dftest[\"default\"].map({'yes': 1, 'no': 0})\n",
    "dftest[\"housing\"] = dftest[\"housing\"].map({'yes': 1, 'no': 0})\n",
    "dftest[\"loan\"] = dftest[\"loan\"].map({'yes': 1, 'no': 0})\n",
    "dftest[\"y\"] = dftest[\"y\"].map({'yes': 1, 'no': 0})\n",
    "\n",
    "\n",
    "####################################################################################################################\n",
    "####################################################################################################################\n",
    "#####################################  MODEL A #####################################################\n",
    "lambdavalA=int(8)\n",
    "X=dftrain1.drop(['y'],axis=1)\n",
    "y=dftrain1['y']\n",
    "clf=LogisticRegression(penalty='l2',C=1/lambdavalA).fit(X,y)\n",
    "\n",
    "ypred=clf.predict(dftrain1.drop(['y'],axis=1))\n",
    "trainaccuracyA=metrics.accuracy_score(ypred,dftrain1['y'])\n",
    "\n",
    "ypred=clf.predict(dfvalid1.drop(['y'],axis=1))\n",
    "validaccuracyA=metrics.accuracy_score(ypred,dfvalid1['y'])\n",
    "\n",
    "\n",
    "ypred=clf.predict(dftest.drop(['y'],axis=1))\n",
    "testaccuracyA=metrics.accuracy_score(ypred,dftest['y'])\n",
    "# print(trainaccuracyA,validaccuracyA,testaccuracyA)\n",
    "\n",
    "############################################################################################################################\n",
    "#####################################  MODEL B #####################################################\n",
    "\n",
    "# Selecting best model in which I have best value of lambda and max_iter\n",
    "from sklearn.linear_model import LogisticRegression\n",
    "from sklearn import metrics\n",
    "lambdavalB=26\n",
    "X=dftrain2.drop(['y'],axis=1)\n",
    "y=dftrain2['y']\n",
    "\n",
    "clf=LogisticRegression(penalty='l2',C=1/lambdavalB).fit(X,y)\n",
    "\n",
    "ypred=clf.predict(dftrain2.drop(['y'],axis=1))\n",
    "trainaccuracyB=metrics.accuracy_score(ypred,dftrain2['y'])\n",
    "\n",
    "ypred=clf.predict(dfvalid2.drop(['y'],axis=1))\n",
    "validaccuracyB=metrics.accuracy_score(ypred,dfvalid2['y'])\n",
    "\n",
    "\n",
    "ypred=clf.predict(dftest.drop(['y'],axis=1))\n",
    "testaccuracyB=metrics.accuracy_score(ypred,dftest['y'])\n",
    "\n",
    "# print(trainaccuracyB,validaccuracyB,testaccuracyB)\n",
    "\n",
    "\n",
    "############################################################################################################################\n",
    "#####################################  MODEL C #####################################################\n",
    "\n",
    "from sklearn.linear_model import LogisticRegression\n",
    "from sklearn import metrics\n",
    "lambdaval=3\n",
    "X=dftrain2.drop(['y'],axis=1)\n",
    "y=dftrain2['y']\n",
    "clf=LogisticRegression(penalty='l2',C=1/lambdaval).fit(X,y)\n",
    "\n",
    "ypred=clf.predict_proba(dftrain2.drop(['y'],axis=1))\n",
    "yprednew=[]\n",
    "for i in range(len(ypred)):\n",
    "    if(ypred[i][0]>=0.65):\n",
    "        yprednew.append(0)\n",
    "    else:\n",
    "        yprednew.append(1)\n",
    "trainaccuracyC=metrics.accuracy_score(yprednew,dftrain2['y'])\n",
    "\n",
    "\n",
    "ypred=clf.predict_proba(dfvalid2.drop(['y'],axis=1))\n",
    "yprednew=[]\n",
    "for i in range(len(ypred)):\n",
    "    if(ypred[i][0]>=0.65):\n",
    "        yprednew.append(0)\n",
    "    else:\n",
    "        yprednew.append(1)\n",
    "validaccuracyC=metrics.accuracy_score(yprednew,dfvalid2['y'])\n",
    "\n",
    "\n",
    "ypred=clf.predict_proba(dftest.drop(['y'],axis=1))\n",
    "yprednew=[]\n",
    "for i in range(len(ypred)):\n",
    "    if(ypred[i][0]>=0.65):\n",
    "        yprednew.append(0)\n",
    "    else:\n",
    "        yprednew.append(1)\n",
    "testaccuracyC=metrics.accuracy_score(yprednew,dftest['y'])\n",
    "# print(trainaccuracyC,validaccuracyC,testaccuracyC)\n",
    "#############################################################################################################################\n",
    "################################################################################################################################\n",
    "print(\"ANSWER Task 5.1 ###################################################################################################\")\n",
    "print(\"############################ Performance of all models with Train Validation and Test Accuracy#####################\")\n",
    "print(\"###################################################################################################################\")\n",
    "print(\"            Train Error   Validation Error    Test Error\")\n",
    "print(\"MODEL A        {:.4f}        {:.4f}              {:.4f}  \".format(trainaccuracyA,validaccuracyA,testaccuracyA))\n",
    "print(\"MODEL B        {:.4f}        {:.4f}              {:.4f}  \".format(trainaccuracyB,validaccuracyB,testaccuracyB))\n",
    "print(\"MODEL C        {:.4f}        {:.4f}              {:.4f}  \".format(trainaccuracyC,validaccuracyC,testaccuracyC))\n",
    "\n",
    "print(\"###################################################################################################################\")\n",
    "print(\"########################################## Intuition for Model A , B and C ######################################\")\n",
    "print(\"###################################################################################################################\")\n",
    "print(\"MODEL A: overfits the model somewhat because it has less training samples\")\n",
    "print(\"MODEL B: gives good result as there are more training data and as it uses best value among all possible values of lambda \")\n",
    "print(\"Model C: gives best result using Logistic regression as it uses large training data as well as it tunes both parameters threshold and lambda in order to achieve best accuracy as much as it can.\")\n",
    "\n",
    "print(\"\\nModel A has less number of training samples(6769) as compared to training samples provided for Model B and Model C(28937). Now it is obvious to us that if a model is having more training data, the model will be more accurate. Thus Model B and Model C will be more accurate as compared to model A(provided we have applied same ML algorithm ie Logistic Regression)\")\n",
    "\n",
    "print(\"\\nThus Model B and C will have higher accuracy as compared to Model A as Model A overfits the data.\")\n",
    "\n",
    "print(\"\\nModel B and Model C uses tuning of hyperparameter lambda for L2 regularization.Model B has slightly less accuracy as compared to Model C because Model C uses parameter tuning of lambda as well as threshold. In Model C we adjust almost all possibilities of threshold and lambda and at the end receive the best parameters for which we have high accuracy\")\n",
    "\n",
    "print(\"\\n Thus Model C appears to have slightly more accuracy than Model B.\")\n",
    "print(\"\\n###################################################################################################################\")\n",
    "print(\"ANSWER task 5.2  ####################################################################################################\")\n",
    "print(\"A BIG NO for \\\"Accuracy\\\" as a metric to evaluate models, especially in classification tasks. A single one line proof for Why I dont feel accuracy is a good parameter to evaluate this model on is : We have 28,934 total number of samples in train2.csv and almost 25549 are having \\\"no\\\" as target variable, which means 88% of samples are already negative. Now what happens is Suppose your model evaluates in terms of accuracy ,AND IF YOU DESIGN MODEL WHICH predicts ALL VALUES AS \\\"no\\\", what will happen is you will have accuracy of 88% . YIPIEEEEE. Is your classifier even doing anything? A BIG NO. Thus I feel accuracy is not a metric to evaluate a classification model\")\n",
    "print(\"\\n IN short : If classifier predicts all values \\\"no\\\": Accuracy on train2 is nearly 88% which is totally unfair!!!\")\n",
    "print(\"Moreover It MIGHT be used when we have equal distribution of samples in YES AND NO target values in test dataset. And yes, this might not be the case all time. Thus I feel we should use precision and recall here instead of using accuracy as a metric. \")\n",
    "print(\"precision = TP/(TP + FP) and recall = TP/(TP + FN).SO precision is: \\\"out of all the examples the classifier labeled as positive, what fraction were correct?\\\" and recall is:\\\" out of all the positive examples there were, what fraction did the classifier pick up!!\\\"\")\n",
    "print(\"My point of view is we should tweak values of precision and recall and see what matters most to us in certain cases. Because what happens is according to different testcases, importance of precision and recall matters. The higher the vlaue of precision and recall, the better is the model. Moreover, we can also use F Measure or F Score which combines precision and recall into one metric. \")\n",
    "print(\"        Fmeasure = (2*precision*recall)/(precision+recall)  \")"
   ]
  },
  {
   "cell_type": "markdown",
   "metadata": {
    "colab_type": "text",
    "id": "3b62zDpk-O8v"
   },
   "source": [
    "## Problem 2 (50 points)\n",
    "\n",
    "Consider a regression problem in which the input variable $x$ has only one feature and the target variable $y$ is generated from the input variable $x$ by a polynomial $f(x)$. The function $f$ is such that $$f(x) = \\sum_{i=0}^d w_ix^i$$ Please note that a given polynomial function can be completely described by the vector of coefficients $\\mathbf{w}$.\n",
    "\n",
    "### Task 1 (5 points)\n",
    "\n",
    "Write a function in python which can take the degree of polynomial function as input. The code to generate vector coefficeints $\\mathbf{w}$ using this input is already provided. Plot the resulting function for $x \\in (-low, high)$. The function should be plot "
   ]
  },
  {
   "cell_type": "code",
   "execution_count": 382,
   "metadata": {
    "colab": {},
    "colab_type": "code",
    "id": "ivzCo28P_SFW"
   },
   "outputs": [
    {
     "data": {
      "image/png": "[encoded data removed]",
      "text/plain": [
       "<Figure size 432x288 with 1 Axes>"
      ]
     },
     "metadata": {},
     "output_type": "display_data"
    }
   ],
   "source": [
    "import numpy as np\n",
    "from scipy.special import legendre\n",
    "import matplotlib.pyplot as plt\n",
    "%matplotlib inline\n",
    "def get_coefficients(degree):\n",
    "    \"\"\"\n",
    "    The coefficients returned are in the order w_0, w_1, ... , w_{degree}\n",
    "    \"\"\"\n",
    "    return legendre(degree).coefficients[::]\n",
    "# I just removed -1 because I wanted to use my polyval(w,x) function which multiplies in order starting from \n",
    "# w_degree*x^degree +...+ w_2*x^2  + w_1*x^1  + w_0*x^0 \n",
    "\n",
    "def visualize_function(degree, low, high):\n",
    "    w = get_coefficients(degree)\n",
    "#     print(w)\n",
    "    x=np.random.uniform(low=low, high=high, size=(200,))\n",
    "    x=np.sort(x)\n",
    "#     print(x)\n",
    "    \n",
    "    y=np.polyval(w,x)\n",
    "#     print(\"y is : \",y)\n",
    "    plt.plot(x,y,'b',label=\"function curve\")\n",
    "    plt.legend()\n",
    "    pass\n",
    "\n",
    "## TEST CASES (The following lines should plot a function)\n",
    "# visualize_function(3, -1, 1)\n",
    "# visualize_function(4, -1, 1)\n",
    "visualize_function(6, -1, 1)"
   ]
  },
  {
   "cell_type": "markdown",
   "metadata": {
    "colab_type": "text",
    "id": "z8Mm1YGNBH5u"
   },
   "source": [
    "### Task 2 (5 points)\n",
    "\n",
    "Write a function in python that randomly generates a dataset (training data + test data). The function should take the degree of target polynomial as input along with the number of points that should be generated for both the training and the test sets. The polynomial will be represented by the vector of coefficients. The code to calculate these coefficients has been provided. The function should also add random normal noise to the target -- i.e. the noise should be drawn from a normal distribution with mean $\\mu=0$ and standard deviation = $\\sigma^2$. Thus: \n",
    "$$y=\\sum_{i=0}^d w_ix^i + \\mathcal{N}(0, \\sigma^2)$$\n",
    "\n"
   ]
  },
  {
   "cell_type": "code",
   "execution_count": 383,
   "metadata": {
    "colab": {},
    "colab_type": "code",
    "id": "ZZ1zxLPvCyDt"
   },
   "outputs": [
    {
     "data": {
      "text/plain": [
       "(array([-0.72555615, -0.62664945,  0.4368021 ,  0.9123629 ,  0.98911513]),\n",
       " array([-1.2293707 , -1.03803801, -1.80966832, -0.8327188 , -0.42723934]),\n",
       " array([-0.63173364, -0.60204347,  0.05199861]),\n",
       " array([ 0.07353557,  0.11375647, -0.32141899]))"
      ]
     },
     "execution_count": 383,
     "metadata": {},
     "output_type": "execute_result"
    }
   ],
   "source": [
    "def generate_dataset(degree, n_train, n_test, sigma):\n",
    "    \"\"\"\n",
    "    - n_train - Number of training samples\n",
    "    - n_test - Number of test samples\n",
    "    - X_train is an array of size (n_train $\\times$ 1)\n",
    "    - y_train is an array of size (n_train $\\times$ 1)\n",
    "    - X_test is an array of size (n_test $\\times$ 1)\n",
    "    - y_test is an array of size (n_test $\\times$ 1)\n",
    "    \"\"\"\n",
    "    w = get_coefficients(degree)\n",
    "#     print(w)\n",
    "    X_train=np.random.uniform(low=-1, high=1, size=(n_train,))\n",
    "    X_train=np.sort(X_train)\n",
    "    y_train=np.polyval(w,X_train) + np.random.normal(0, sigma, 1)\n",
    "    X_test=np.random.uniform(low=-1, high=1, size=(n_test,))\n",
    "    X_test=np.sort(X_test)\n",
    "    y_test=np.polyval(w,X_test) + np.random.normal(0, sigma, 1)\n",
    "    return X_train, y_train, X_test, y_test\n",
    "generate_dataset(3,5,3,1)"
   ]
  },
  {
   "cell_type": "markdown",
   "metadata": {
    "colab_type": "text",
    "id": "et9gTUzy_Sn9"
   },
   "source": [
    "### Task 3 (20 points)\n",
    "\n",
    "1.   Use the function written in Task 2 to generate a dataset of degree $10$, with $20$ samples each in the training and test sets. The standard deviation of the noise should be $0.2$.\n",
    "2.   Plot the generated points of the train set over the function. Make use the function you wrote in Task 1 to do so. The resultant plot should not only contain the function in blue color but also the generated points in the train set in red color.\n",
    "3.   Fit two linear regressions models: $\\mathcal{A}$ and $\\mathcal{B}$ on the given training data. Model $\\mathcal{A}$ should be quadratic and Model $\\mathcal{B}$ should be of degree $10$. How would you create such models?\n",
    "4. Calculate the training error and testing error on both these models and report them nicely in a table.\n",
    "5. Explain the results:\n",
    " - Are the results as expected or surprising? Explain your stance.\n",
    " - Give a detailed explanation of why this happens.\n",
    " \n",
    " **Hint**: You are free (in fact encouraged) to design new experiments under the same paradigm to understand what is happening. You can buttress your explanation with any plots which you might generate from such new experiments.\n",
    "\n",
    " \n",
    "Note: _There is no preference over the size of the answer but please note that you shouldn't write anything that is not pertinent. While being terse, your answer should clearly convey the intuition. Also, use logical number code/text cells---i.e. every subquestion in a given task which can be considered a logical unit should be present in one cell. Do not make one cell unnecessarily long by putting multiple answers in it or split a given answer over multiple cells. Use your best judgement."
   ]
  },
  {
   "cell_type": "code",
   "execution_count": 403,
   "metadata": {},
   "outputs": [],
   "source": [
    "import matplotlib.pyplot as plt\n",
    "%matplotlib inline \n",
    "# ###################Task 3 Question 1 goes here #######################33333\n",
    "X_train, y_train, X_test, y_test = generate_dataset(10,20,20,0.2)\n"
   ]
  },
  {
   "cell_type": "code",
   "execution_count": 404,
   "metadata": {},
   "outputs": [
    {
     "data": {
      "text/plain": [
       "<matplotlib.legend.Legend at 0x1fae63ad160>"
      ]
     },
     "execution_count": 404,
     "metadata": {},
     "output_type": "execute_result"
    },
    {
     "data": {
      "image/png": "[encoded data removed]",
      "text/plain": [
       "<Figure size 432x288 with 1 Axes>"
      ]
     },
     "metadata": {},
     "output_type": "display_data"
    }
   ],
   "source": [
    "###########################################################################\n",
    "# Task 3 Question 2 goes here \n",
    "# NOTE: I was not knowing what to plot for Xtrain and y train (curve or points). Monday ie 10/8 ,I couldnt find  AI \n",
    "# after class,So had to do this way. I am plotting curve here and in next cell I am plotting points of \n",
    "# Xtrain and y train(Just for AIs to know that I am aware how to plot, so It doesnt affect grade)\n",
    "plt.plot(X_train,y_train,'r',label=\"trainset points curve\")\n",
    "visualize_function(10,-1,+1)\n",
    "plt.xlabel(\"X values\")\n",
    "plt.ylabel(\"Y values\")\n",
    "plt.legend()"
   ]
  },
  {
   "cell_type": "code",
   "execution_count": 405,
   "metadata": {},
   "outputs": [
    {
     "data": {
      "text/plain": [
       "<matplotlib.legend.Legend at 0x1fae6266ef0>"
      ]
     },
     "execution_count": 405,
     "metadata": {},
     "output_type": "execute_result"
    },
    {
     "data": {
      "image/png": "[encoded data removed]",
      "text/plain": [
       "<Figure size 432x288 with 1 Axes>"
      ]
     },
     "metadata": {},
     "output_type": "display_data"
    }
   ],
   "source": [
    "# Task 3 Question 2 goes here \n",
    "# Plotting points of X_train and y_train\n",
    "plt.plot(X_train,y_train,'ro',label=\"Trainset points\")\n",
    "visualize_function(10,-1,+1)\n",
    "plt.xlabel(\"X values\")\n",
    "plt.ylabel(\"Y values\")\n",
    "plt.legend()\n"
   ]
  },
  {
   "cell_type": "code",
   "execution_count": 406,
   "metadata": {},
   "outputs": [
    {
     "name": "stdout",
     "output_type": "stream",
     "text": [
      "Training error for Degree 2 Model is :  0.03141954133001551\n",
      "Testing error for Degree 2 Model  is :  0.049026010963348576\n"
     ]
    }
   ],
   "source": [
    "###############################################################\n",
    "# Task 3 Question 3: How should you create such Linear Regression Models?\n",
    "# My way is: Create 1,x,x^2 as features for model that requires degree=2 and for Linear Regression model which requires \n",
    "# degree =10 , take features as 1,X^2,X^3,X^4....X^10. Moreover keep y_train same for both the models and let it tweak the\n",
    "# values of weights to get upto it!!!\n",
    "\n",
    "# Task 3 Question 3 : For Degree equals 2\n",
    "###############################################################\n",
    "import numpy as np\n",
    "from sklearn.linear_model import LinearRegression\n",
    "from sklearn.preprocessing import PolynomialFeatures\n",
    "from sklearn.metrics import mean_squared_error\n",
    "\n",
    "degree=2\n",
    "\n",
    "poly = PolynomialFeatures(degree)\n",
    "X_train=X_train.reshape(len(X_train),1)\n",
    "# print(\"X train is : \",X_train)\n",
    "X=poly.fit_transform(X_train).reshape(len(X_train),degree+1)\n",
    "# print(\"X is : \",X)\n",
    "reg = LinearRegression().fit(X, y_train)\n",
    "# train_accuracy_2=reg.score(X, y_train)\n",
    "y_pred=reg.predict(X)\n",
    "trainerror2=mean_squared_error(y_train,y_pred)\n",
    "print(\"Training error for Degree 2 Model is : \",mean_squared_error(y_train,y_pred))\n",
    "\n",
    "poly = PolynomialFeatures(degree)\n",
    "X_test=X_test.reshape(len(X_test),1)\n",
    "X=poly.fit_transform(X_test).reshape(len(X_test),degree+1)\n",
    "y_pred=reg.predict(X)\n",
    "# test_accuracy_2= reg.score(X, y_test)\n",
    "testerror2=mean_squared_error(y_test,y_pred)\n",
    "print(\"Testing error for Degree 2 Model  is : \",mean_squared_error(y_test,y_pred))\n",
    "\n",
    "# print(reg.coef_)\n",
    "# print(reg.intercept_) "
   ]
  },
  {
   "cell_type": "code",
   "execution_count": 407,
   "metadata": {},
   "outputs": [
    {
     "name": "stdout",
     "output_type": "stream",
     "text": [
      "Training error for Degree 10 Model is :  1.2086507707440444e-27\n",
      "Testing error for Degree 10 Model  is :  0.026271710020327695\n"
     ]
    }
   ],
   "source": [
    "# Task 3 Question 3 : For Degree equals 10\n",
    "###############################################################\n",
    "import numpy as np\n",
    "from sklearn.linear_model import LinearRegression\n",
    "from sklearn.preprocessing import PolynomialFeatures\n",
    "from sklearn.metrics import mean_squared_error\n",
    "\n",
    "degree=10\n",
    "\n",
    "poly = PolynomialFeatures(degree)\n",
    "X_train=X_train.reshape(len(X_train),1)\n",
    "# print(\"X train is : \",X_train)\n",
    "X=poly.fit_transform(X_train).reshape(len(X_train),degree+1)\n",
    "# print(\"X is : \",X)\n",
    "reg = LinearRegression().fit(X, y_train)\n",
    "# train_accuracy_10=reg.score(X, y_train)\n",
    "y_pred=reg.predict(X)\n",
    "trainerror10 = mean_squared_error(y_train,y_pred)\n",
    "print(\"Training error for Degree 10 Model is : \",mean_squared_error(y_train,y_pred))\n",
    "\n",
    "poly = PolynomialFeatures(degree)\n",
    "X_test=X_test.reshape(len(X_test),1)\n",
    "X=poly.fit_transform(X_test).reshape(len(X_test),degree+1)\n",
    "y_pred=reg.predict(X)\n",
    "# test_accuracy_10= reg.score(X, y_test)\n",
    "testerror10 = mean_squared_error(y_test,y_pred)\n",
    "print(\"Testing error for Degree 10 Model  is : \",mean_squared_error(y_test,y_pred))\n",
    "\n",
    "# print(reg.coef_)\n",
    "# print(reg.intercept_) "
   ]
  },
  {
   "cell_type": "code",
   "execution_count": 408,
   "metadata": {},
   "outputs": [
    {
     "name": "stdout",
     "output_type": "stream",
     "text": [
      "Degree   Training Error Testing Error\n",
      "  2        0.031420       0.049026\n",
      "  10       0.000000       0.026272\n"
     ]
    }
   ],
   "source": [
    "# Task 3 Question 4\n",
    "print(\"Degree   Training Error Testing Error\")\n",
    "print(\"  2        {0:1f}       {1:3f}\".format(trainerror2,testerror2))\n",
    "print(\"  10       {0:1f}       {1:3f}\".format(trainerror10,testerror10))"
   ]
  },
  {
   "cell_type": "code",
   "execution_count": 409,
   "metadata": {},
   "outputs": [
    {
     "name": "stdout",
     "output_type": "stream",
     "text": [
      "It was totally what I had expected.\n",
      "now comes point WHY degree 2 gave less accuracy as compared to degree 10 and Why degree 10 gave error almost 0? Why exactly degree 10?\n",
      "The answers to above questions are here : NOTE that we had generated dataset with degree = 10. It means ytrain and ytest were generated itself with degrees of freedom equals to 10. ie they would have generated by doing y=w0*1 + w1*x^1 +w2*x^2 + w3*x^3 + w4*x^4 + ....w10*x^10\n",
      "Now what happens is in degree equals 2 our model does y=w0*1 + w1*x^1 +w2*x^2. Thus it will try its level best to fit the model but as y has maximum degree of freedom as 2, it cannot go beyond some particular accuracy. It would not be able to generate more accurate results\n",
      "While what happens in degree= 10 is that: It does y=w0*1 + w1*x^1 +w2*x^2 + w3*x^3 + w4*x^4 + ....w10*x^10 !!! exactly same as it was done to generate the model. The Linear Regression Model tries best to learn and tweak the model and it successfully does so!! Thus train and test error should be zero!! BUT there will be some noise that will variant in train and test error. No doubt the training error will be nearly 0 as it will be able to handle noise in its x^0*w1 part and learn it accordingly but due to variance in producing noise, it will have some slightly test error \n"
     ]
    },
    {
     "data": {
      "text/plain": [
       "<matplotlib.legend.Legend at 0x1fae521cc50>"
      ]
     },
     "execution_count": 409,
     "metadata": {},
     "output_type": "execute_result"
    },
    {
     "data": {
      "image/png": "[encoded data removed]",
      "text/plain": [
       "<Figure size 432x288 with 1 Axes>"
      ]
     },
     "metadata": {},
     "output_type": "display_data"
    }
   ],
   "source": [
    "# Task 3 question 5\n",
    "###############################################################\n",
    "import numpy as np\n",
    "from sklearn.linear_model import LinearRegression\n",
    "from sklearn.preprocessing import PolynomialFeatures\n",
    "from sklearn.metrics import mean_squared_error\n",
    "\n",
    "print(\"It was totally what I had expected.\") \n",
    "print(\"now comes point WHY degree 2 gave less accuracy as compared to degree 10 and Why degree 10 gave error almost 0? Why exactly degree 10?\")\n",
    "print(\"The answers to above questions are here : NOTE that we had generated dataset with degree = 10. It means ytrain and ytest were generated itself with degrees of freedom equals to 10. ie they would have generated by doing y=w0*1 + w1*x^1 +w2*x^2 + w3*x^3 + w4*x^4 + ....w10*x^10\")\n",
    "print(\"Now what happens is in degree equals 2 our model does y=w0*1 + w1*x^1 +w2*x^2. Thus it will try its level best to fit the model but as y has maximum degree of freedom as 2, it cannot go beyond some particular accuracy. It would not be able to generate more accurate results\")\n",
    "print(\"While what happens in degree= 10 is that: It does y=w0*1 + w1*x^1 +w2*x^2 + w3*x^3 + w4*x^4 + ....w10*x^10 !!! exactly same as it was done to generate the model. The Linear Regression Model tries best to learn and tweak the model and it successfully does so!! Thus train and test error should be zero!! BUT there will be some noise that will variant in train and test error. No doubt the training error will be nearly 0 as it will be able to handle noise in its x^0*w1 part and learn it accordingly but due to variance in producing noise, it will have some slightly test error \")\n",
    "trainerrorlist=[]\n",
    "testerrorlist=[]\n",
    "for degree in range(1,11):\n",
    "    poly = PolynomialFeatures(degree)\n",
    "    X_train=X_train.reshape(len(X_train),1)\n",
    "    # print(\"X train is : \",X_train)\n",
    "    X=poly.fit_transform(X_train).reshape(len(X_train),degree+1)\n",
    "    # print(\"X is : \",X)\n",
    "    reg = LinearRegression().fit(X, y_train)\n",
    "    # train_accuracy_10=reg.score(X, y_train)\n",
    "    y_pred=reg.predict(X)\n",
    "    trainerror = mean_squared_error(y_train,y_pred)\n",
    "    trainerrorlist.append(trainerror)\n",
    "#     print(\"Training error for Degree 10 Model is : \",mean_squared_error(y_train,y_pred))\n",
    "\n",
    "    poly = PolynomialFeatures(degree)\n",
    "    X_test=X_test.reshape(len(X_test),1)\n",
    "    X=poly.fit_transform(X_test).reshape(len(X_test),degree+1)\n",
    "    y_pred=reg.predict(X)\n",
    "    # test_accuracy_10= reg.score(X, y_test)\n",
    "    testerror = mean_squared_error(y_test,y_pred)\n",
    "    testerrorlist.append(testerror)\n",
    "#     print(\"Testing error for Degree 10 Model  is : \",mean_squared_error(y_test,y_pred))\n",
    "degree=[x for x in range(1,11)]\n",
    "plt.plot(degree,trainerrorlist,'b',label=\"Train \")\n",
    "plt.plot(degree,testerrorlist,'r',label=\"Test\")\n",
    "plt.xlabel(\"Degree\")\n",
    "plt.ylabel(\"Error\")\n",
    "plt.legend()\n",
    "# print(reg.coef_)\n",
    "    # print(reg.intercept_) "
   ]
  },
  {
   "cell_type": "markdown",
   "metadata": {
    "colab_type": "text",
    "id": "APUqEUWUGmXo"
   },
   "source": [
    "### Task 4 (20 points)\n",
    "\n",
    "1.  Use the function written in Task 2 to generate a dataset of degree 45, with 20 samples each in the training and test sets. There should be no noise in the samples.\n",
    "2.  Repeat steps 2 to 4 from Task 3 for this dataset.\n",
    "3.  This target doesn't have noise like the previous one. Does this make the result surprising? Explain your stance. Also give a detailed explanation of why this happens.\n",
    "\n",
    "**Hint**: You are free (in fact encouraged) to design new experiements under the same paradigm to understand what is happening. You can buttress your explanation with any plots which you might generate from such new experiments."
   ]
  },
  {
   "cell_type": "code",
   "execution_count": 418,
   "metadata": {},
   "outputs": [],
   "source": [
    "# Task 4 Question 1\n",
    "# NOTE that we are told to keep noise = 0 so I kept std = 0  \n",
    "X_train, y_train, X_test, y_test = generate_dataset(45,20,20,0)"
   ]
  },
  {
   "cell_type": "code",
   "execution_count": 419,
   "metadata": {},
   "outputs": [
    {
     "data": {
      "text/plain": [
       "<matplotlib.legend.Legend at 0x1fae627deb8>"
      ]
     },
     "execution_count": 419,
     "metadata": {},
     "output_type": "execute_result"
    },
    {
     "data": {
      "image/png": "[encoded data removed]",
      "text/plain": [
       "<Figure size 432x288 with 1 Axes>"
      ]
     },
     "metadata": {},
     "output_type": "display_data"
    }
   ],
   "source": [
    "###########################################################################\n",
    "# Task 4 Step 2 part 1 \n",
    "visualize_function(45,-1,+1)\n",
    "plt.plot(X_train,y_train,'r',label=\"Trainset points curve\")\n",
    "plt.xlabel(\"X values\")\n",
    "plt.ylabel(\"Y values\")\n",
    "plt.legend()"
   ]
  },
  {
   "cell_type": "code",
   "execution_count": 420,
   "metadata": {},
   "outputs": [
    {
     "data": {
      "text/plain": [
       "<matplotlib.legend.Legend at 0x1fae528e4e0>"
      ]
     },
     "execution_count": 420,
     "metadata": {},
     "output_type": "execute_result"
    },
    {
     "data": {
      "image/png": "[encoded data removed]",
      "text/plain": [
       "<Figure size 432x288 with 1 Axes>"
      ]
     },
     "metadata": {},
     "output_type": "display_data"
    }
   ],
   "source": [
    "# Task 4 Step2 part 2 \n",
    "# Plotting points of X_train and y_train\n",
    "plt.plot(X_train,y_train,'ro',label=\"Trainset points\")\n",
    "visualize_function(45,-1,+1)\n",
    "plt.xlabel(\"X values\")\n",
    "plt.ylabel(\"Y values\")\n",
    "plt.legend()"
   ]
  },
  {
   "cell_type": "code",
   "execution_count": 421,
   "metadata": {},
   "outputs": [
    {
     "name": "stdout",
     "output_type": "stream",
     "text": [
      "Training error for Degree 2 Model is :  4902963.850862393\n",
      "Testing error for Degree 2 Model  is :  38899194.879502855\n"
     ]
    }
   ],
   "source": [
    "\n",
    "# Task 4. Step 3 part 1---MODEL with degree 2\n",
    "###############################################################\n",
    "import numpy as np\n",
    "from sklearn.linear_model import LinearRegression\n",
    "from sklearn.preprocessing import PolynomialFeatures\n",
    "from sklearn.metrics import mean_squared_error\n",
    "\n",
    "degree=2\n",
    "\n",
    "poly = PolynomialFeatures(degree)\n",
    "X_train=X_train.reshape(len(X_train),1)\n",
    "# print(\"X train is : \",X_train)\n",
    "X=poly.fit_transform(X_train).reshape(len(X_train),degree+1)\n",
    "# print(\"X is : \",X)\n",
    "reg = LinearRegression().fit(X, y_train)\n",
    "# train_accuracy_2=reg.score(X, y_train)\n",
    "y_pred=reg.predict(X)\n",
    "trainerror2=mean_squared_error(y_train,y_pred)\n",
    "print(\"Training error for Degree 2 Model is : \",mean_squared_error(y_train,y_pred))\n",
    "\n",
    "poly = PolynomialFeatures(degree)\n",
    "X_test=X_test.reshape(len(X_test),1)\n",
    "X=poly.fit_transform(X_test).reshape(len(X_test),degree+1)\n",
    "y_pred=reg.predict(X)\n",
    "# test_accuracy_2= reg.score(X, y_test)\n",
    "testerror2=mean_squared_error(y_test,y_pred)\n",
    "print(\"Testing error for Degree 2 Model  is : \",mean_squared_error(y_test,y_pred))\n",
    "\n",
    "# print(reg.coef_)\n",
    "# print(reg.intercept_) "
   ]
  },
  {
   "cell_type": "code",
   "execution_count": 422,
   "metadata": {},
   "outputs": [
    {
     "name": "stdout",
     "output_type": "stream",
     "text": [
      "Training error for Degree 10 Model is :  110.11992039087431\n",
      "Testing error for Degree 10 Model  is :  8331492.639058905\n"
     ]
    }
   ],
   "source": [
    "# Task 4 . step 3. part 2.--> model with  degree 10\n",
    "###############################################################\n",
    "import numpy as np\n",
    "from sklearn.linear_model import LinearRegression\n",
    "from sklearn.preprocessing import PolynomialFeatures\n",
    "from sklearn.metrics import mean_squared_error\n",
    "\n",
    "degree=10\n",
    "\n",
    "poly = PolynomialFeatures(degree)\n",
    "X_train=X_train.reshape(len(X_train),1)\n",
    "# print(\"X train is : \",X_train)\n",
    "X=poly.fit_transform(X_train).reshape(len(X_train),degree+1)\n",
    "# print(\"X is : \",X)\n",
    "reg = LinearRegression().fit(X, y_train)\n",
    "# train_accuracy_10=reg.score(X, y_train)\n",
    "y_pred=reg.predict(X)\n",
    "trainerror10 = mean_squared_error(y_train,y_pred)\n",
    "print(\"Training error for Degree 10 Model is : \",mean_squared_error(y_train,y_pred))\n",
    "\n",
    "poly = PolynomialFeatures(degree)\n",
    "X_test=X_test.reshape(len(X_test),1)\n",
    "X=poly.fit_transform(X_test).reshape(len(X_test),degree+1)\n",
    "y_pred=reg.predict(X)\n",
    "# test_accuracy_10= reg.score(X, y_test)\n",
    "testerror10 = mean_squared_error(y_test,y_pred)\n",
    "print(\"Testing error for Degree 10 Model  is : \",mean_squared_error(y_test,y_pred))\n",
    "\n",
    "# print(reg.coef_)\n",
    "# print(reg.intercept_) "
   ]
  },
  {
   "cell_type": "code",
   "execution_count": 423,
   "metadata": {},
   "outputs": [
    {
     "name": "stdout",
     "output_type": "stream",
     "text": [
      "Degree   Training Error Testing Error\n",
      "  2        4902963.850862       38899194.879503\n",
      "  10       110.119920       8331492.639059\n"
     ]
    }
   ],
   "source": [
    "\n",
    "print(\"Degree   Training Error Testing Error\")\n",
    "print(\"  2        {0:1f}       {1:3f}\".format(trainerror2,testerror2))\n",
    "print(\"  10       {0:1f}       {1:3f}\".format(trainerror10,testerror10))"
   ]
  },
  {
   "cell_type": "code",
   "execution_count": 424,
   "metadata": {},
   "outputs": [
    {
     "name": "stdout",
     "output_type": "stream",
     "text": [
      "The result was indeed surprising at first glance!!! The reason is again the same. The dataset was generated with degree equals 45 and thus in dataset while generating y=w0*1 + w1*x^1 +w2*x^2 + w3*x^3 + w4*x^4 + ....w45*x^45 which means y has 45 degrees of freedom and it will take various weights and complexity of dataset would increase to a great extent.\n",
      "Also we know that in degree = 2 , y=w0*1 + w1*x^1 +w2*x^2 , so it tries its best to match train but just cannot!! as it has only 2 degrees of freedom , while for model with degree equals 10 , we have y=w0*1 + w1*x^1 +w2*x^2 + w3*x^3 + w4*x^4 + ....w10*x^10 and thus it can have less training error as compared to 2 as it has 10 degrees of freedom to twist and turn as per dataset.  \n",
      "Also a noteworthy thing we noticed is testing error overall increased as degrees of model increased!!!! The reason is simple. OVERFITTING. The model with higher degrees are trying to overlearn or overfit the data and thus its facing issues when we give testdata to it. \n",
      "###################################\n",
      "MOST IMPORTANT POINT NOTICED:\n",
      "After running models for different degrees and plotting different graphs, I concluded following points:\n",
      " No matter how many times we run the model, The training error always DECREASES as we increase the degree of model, as model with higher degrees will have more degrees of freedom to bent the model as per dataset\n",
      "MANY TIMES  if the degree increases, after some time the model will be seen overfitting and it will increase testing error to a much greater extent\n",
      " Testing error SOMETIMES decreases with increase in degrees(20% chances in my experiment). YES This happened as well!!\n",
      "So, overall there is no certainity in relative accuracies of models with different degrees for testing data as we are generating random values and the result may vary by vast amount!!!\n",
      "####################################\n",
      "Below I have plotted graph for degree=1 to 46 training and testing error. \n",
      "Important points to note from graph is : After certain point the error rate is increased by much much larger extent and this is all due to overfitting!!!\n"
     ]
    },
    {
     "data": {
      "text/plain": [
       "<matplotlib.legend.Legend at 0x1fae52f8f60>"
      ]
     },
     "execution_count": 424,
     "metadata": {},
     "output_type": "execute_result"
    },
    {
     "data": {
      "image/png": "[encoded data removed]",
      "text/plain": [
       "<Figure size 432x288 with 1 Axes>"
      ]
     },
     "metadata": {},
     "output_type": "display_data"
    }
   ],
   "source": [
    "# Task 3 : \n",
    "###############################################################\n",
    "print(\"The result was indeed surprising at first glance!!! The reason is again the same. The dataset was generated with degree equals 45 and thus in dataset while generating y=w0*1 + w1*x^1 +w2*x^2 + w3*x^3 + w4*x^4 + ....w45*x^45 which means y has 45 degrees of freedom and it will take various weights and complexity of dataset would increase to a great extent.\")\n",
    "print(\"Also we know that in degree = 2 , y=w0*1 + w1*x^1 +w2*x^2 , so it tries its best to match train but just cannot!! as it has only 2 degrees of freedom , while for model with degree equals 10 , we have y=w0*1 + w1*x^1 +w2*x^2 + w3*x^3 + w4*x^4 + ....w10*x^10 and thus it can have less training error as compared to 2 as it has 10 degrees of freedom to twist and turn as per dataset.  \")\n",
    "print(\"Also a noteworthy thing we noticed is testing error overall increased as degrees of model increased!!!! The reason is simple. OVERFITTING. The model with higher degrees are trying to overlearn or overfit the data and thus its facing issues when we give testdata to it. \")\n",
    "print(\"###################################\")\n",
    "print(\"MOST IMPORTANT POINT NOTICED:\")\n",
    "print(\"After running models for different degrees and plotting different graphs, I concluded following points:\")\n",
    "print(\" No matter how many times we run the model, The training error always DECREASES as we increase the degree of model, as model with higher degrees will have more degrees of freedom to bent the model as per dataset\")\n",
    "print(\"MANY TIMES  if the degree increases, after some time the model will be seen overfitting and it will increase testing error to a much greater extent\")\n",
    "print(\" Testing error SOMETIMES decreases with increase in degrees(20% chances in my experiment). YES This happened as well!!\")\n",
    "print(\"So, overall there is no certainity in relative accuracies of models with different degrees for testing data as we are generating random values and the result may vary by vast amount!!!\")\n",
    "print(\"####################################\")\n",
    "print(\"Below I have plotted graph for degree=1 to 46 training and testing error. \")\n",
    "print(\"Important points to note from graph is : After certain point the error rate is increased by much much larger extent and this is all due to overfitting!!!\")\n",
    "import numpy as np\n",
    "from sklearn.linear_model import LinearRegression\n",
    "from sklearn.preprocessing import PolynomialFeatures\n",
    "from sklearn.metrics import mean_squared_error\n",
    "\n",
    "trainerrorlist=[]\n",
    "testerrorlist=[]\n",
    "for degree in range(1,46):\n",
    "    poly = PolynomialFeatures(degree)\n",
    "    X_train=X_train.reshape(len(X_train),1)\n",
    "    # print(\"X train is : \",X_train)\n",
    "    X=poly.fit_transform(X_train).reshape(len(X_train),degree+1)\n",
    "    # print(\"X is : \",X)\n",
    "    reg = LinearRegression().fit(X, y_train)\n",
    "    # train_accuracy_10=reg.score(X, y_train)\n",
    "    y_pred=reg.predict(X)\n",
    "    trainerror = mean_squared_error(y_train,y_pred)\n",
    "    trainerrorlist.append(trainerror)\n",
    "#     print(\"Training error for Degree 10 Model is : \",mean_squared_error(y_train,y_pred))\n",
    "\n",
    "    poly = PolynomialFeatures(degree)\n",
    "    X_test=X_test.reshape(len(X_test),1)\n",
    "    X=poly.fit_transform(X_test).reshape(len(X_test),degree+1)\n",
    "    y_pred=reg.predict(X)\n",
    "    # test_accuracy_10= reg.score(X, y_test)\n",
    "    testerror = mean_squared_error(y_test,y_pred)\n",
    "    testerrorlist.append(testerror)\n",
    "#     print(\"Testing error for Degree 10 Model  is : \",mean_squared_error(y_test,y_pred))\n",
    "degree=[x for x in range(1,46)]\n",
    "plt.plot(degree,trainerrorlist,'b',label=\"Train \")\n",
    "plt.plot(degree,testerrorlist,'r',label=\"Test\")\n",
    "plt.xlabel(\"Degree\")\n",
    "plt.ylabel(\"Error\")\n",
    "plt.legend()\n",
    "# print(reg.coef_)\n",
    "    # print(reg.intercept_) "
   ]
  }
 ],
 "metadata": {
  "colab": {
   "collapsed_sections": [],
   "name": "Assignment2.ipynb",
   "provenance": [],
   "version": "0.3.2"
  },
  "kernelspec": {
   "display_name": "Python 3",
   "language": "python",
   "name": "python3"
  },
  "language_info": {
   "codemirror_mode": {
    "name": "ipython",
    "version": 3
   },
   "file_extension": ".py",
   "mimetype": "text/x-python",
   "name": "python",
   "nbconvert_exporter": "python",
   "pygments_lexer": "ipython3",
   "version": "3.6.5"
  }
 },
 "nbformat": 4,
 "nbformat_minor": 1
}
