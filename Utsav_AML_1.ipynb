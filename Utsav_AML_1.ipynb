{
 "cells": [
  {
   "cell_type": "markdown",
   "metadata": {
    "colab_type": "text",
    "id": "Wqg21c05IrtK"
   },
   "source": [
    "# CSCI-P556\n",
    "## Assignment 1\n",
    "### Due date: 5:30PM, September 26, 2018\n",
    "\n",
    "\n",
    "---\n",
    "\n"
   ]
  },
  {
   "cell_type": "markdown",
   "metadata": {
    "colab_type": "text",
    "id": "qoac1eEaDJPA"
   },
   "source": [
    "## Question 1: Binary Classification (35 points)\n",
    "\n",
    "Consider the binary classification problem of mapping a given input to two classes. Let $\\mathcal{X}=\\mathbb{R}^d$ and $\\mathcal{Y}=\\{+1, -1\\}$ be the input space and output space, respectively. In simple words, it means that the input has $d$ features and all of them are real valued, whereas the output can only take values $-1$ or $+1$. This is one of the most common problems in machine learning and many sophisticated methods exist to solve it. In the question, we will solve it using the concepts we have already learned in class. Like we did in linear regression, let us assume the two sets of points can be separated using a straight line i.e. the samples are linearly separable. So if $d=2$, one should be able to draw a line to distinguish between the two classes. All points lying on side of the line should belong to a particular class (say $1$) and the points lying on the other side should belong to another class (say $2$). To see what this would look like,  your first task is as follows:\n",
    "\n",
    "### Task 1\n",
    "Write a function that will randomly generate a dataset for this problem. Your function should randomly choose a line $l$, which can be denoted as $ax + by + c = 0$. According to basic high school geometry, the line divides the plane into two sides. On one side, $ax+by+c>0$ while on the other $ax+by+c<0$. Use this fact to randomly generate $k_0$ points on the side of class 0 and $k_1$ points on the side of class 1. Use the function you wrote in the previous assignment to plot this dataset!"
   ]
  },
  {
   "cell_type": "code",
   "execution_count": 145,
   "metadata": {
    "colab": {},
    "colab_type": "code",
    "id": "jJK-_b2dNKwl"
   },
   "outputs": [
    {
     "data": {
      "image/png": "[encoded data removed]",
      "text/plain": [
       "<Figure size 432x288 with 1 Axes>"
      ]
     },
     "metadata": {},
     "output_type": "display_data"
    }
   ],
   "source": [
    "# def generate_dataset(k0, k1):\n",
    "#   \"\"\"\n",
    "#   Your code for generating the dataset goes here! The output should X and y.\n",
    "#   You should call the visualization function from this function. Every time we \n",
    "#   run this cell, it should plot a new dataset along with the line which was used\n",
    "#   to generate that dataset. We will test this by changing the values of k and\n",
    "#   running the cell multiple times\n",
    "#   Input: k0 = number\n",
    "#           k1 = number\n",
    "#   Output: X = An (m x d) dimension numpy array where m is the number of samples and d is the number of features\n",
    "#           y = (m x 1) dimension vector where m is the number of samples\n",
    "#   \"\"\"\n",
    "  \n",
    "#   pass\n",
    "####### We are asked to use past assignments function to visualize, so I used that function here\n",
    "import matplotlib.pyplot as plt\n",
    "import numpy as np\n",
    "from random import randrange\n",
    "from random import uniform\n",
    "from random import random\n",
    "from random import randint\n",
    "# i have used randrange, uniform , random and randint from random \n",
    "# Here is the visualization function that was asked. It takes as input 3 parameters.\n",
    "# First is set of tuples, second is also set of tuples and third is the values of parameters a , b and c . They are optional to pass.\n",
    "def plotLineAndPoints(l1, l2,*coefficient):\n",
    "    lxcord=[]\n",
    "    lycord=[]\n",
    "    xlater=[]\n",
    "    ylater=[]\n",
    "    for x,y in l1:\n",
    "        lxcord.append(x)\n",
    "        xlater.append(x)\n",
    "        lycord.append(y)\n",
    "    plt.plot(lxcord,lycord,'r+',color='red',label=\"class: -1\")\n",
    "    lxcord=[]\n",
    "    lycord=[]\n",
    "    for x,y in l2:\n",
    "        lxcord.append(x)\n",
    "        xlater.append(x)\n",
    "        lycord.append(y)\n",
    "    plt.plot(lxcord,lycord,'o',color='blue',label=\"class: +1\")\n",
    "    plt.xlabel(\"X-Axis\")\n",
    "    plt.ylabel(\"Y-Axis\")\n",
    "    if(len(coefficient)==0):\n",
    "        pass\n",
    "    else:\n",
    "        for i in coefficient:\n",
    "            a,b,c=i\n",
    "            for i in xlater:\n",
    "                ylater.append((-c-a*i)/b)\n",
    "            plt.plot(xlater,ylater,label=\"{}x+{}y+{}=0\".format(a,b,c),color='green')\n",
    "    plt.legend()\n",
    "    pass\n",
    "\n",
    "# supposed class 0 is ax+by+c<0 and class 1 as ax+by+c>0\n",
    "def generate_dataset(k0, k1):\n",
    "    X=[]\n",
    "    y=[]\n",
    "#     This allocation to a,b,c is in such a way that it will be random float number. It works like \n",
    "# random() will generate values between 0 and 1, while randint(1,20) generates number between 1 and 20 \n",
    "# we multiply these two TO GET RANDOM FLOAT NUMBER(which was asked to generate)\n",
    "    a=round(random()*randint(1,20),2)\n",
    "    b=round(random()*randint(1,20),2)\n",
    "    c=round(random()*randint(1,20),2)\n",
    "    X=[]\n",
    "    y=[]\n",
    "    xpointsclass1=[]\n",
    "    xpointsclass0=[]\n",
    "    ypointsclass1=[]\n",
    "    ypointsclass0=[]\n",
    "    class1pointer=0\n",
    "    class0pointer=0\n",
    "    for i in range(0,2):\n",
    "        X.append(random()*randint(-50,50))\n",
    "    for i in X:\n",
    "        y.append((-c-a*i)/b)\n",
    "    xmin=min(X)\n",
    "    xmax=max(X)\n",
    "    ymin=min(y)\n",
    "    ymax=max(y)\n",
    "    xtobepassed=[]\n",
    "    ytobepassed=[]\n",
    "    Xtuple=[]\n",
    "    yclassification=[]\n",
    "    while(class0pointer<k0 or class1pointer<k1):\n",
    "        xpoint=random()*randrange(-10,10)\n",
    "        ypoint=random()*randrange(-10,10)\n",
    "        if(a*xpoint+b*ypoint+c<0 and class0pointer<k0):\n",
    "            xpointsclass0.append(xpoint)\n",
    "            ypointsclass0.append(ypoint)\n",
    "            class0pointer=class0pointer+1\n",
    "            Xtuple.append((xpoint,ypoint))\n",
    "            yclassification.append(-1)\n",
    "        if(a*xpoint+b*ypoint+c>0 and class1pointer<k1):\n",
    "            xpointsclass1.append(xpoint)\n",
    "            ypointsclass1.append(ypoint)\n",
    "            class1pointer=class1pointer+1\n",
    "            Xtuple.append((xpoint,ypoint))\n",
    "            yclassification.append(+1)\n",
    "    class0listoftuples=list(zip(xpointsclass0,ypointsclass0))\n",
    "    class1listoftuples=list(zip(xpointsclass1,ypointsclass1))\n",
    "    plotLineAndPoints(class0listoftuples,class1listoftuples,(a,b,c))\n",
    "    X=Xtuple\n",
    "    y=np.array(yclassification)\n",
    "    return (X,y)\n",
    "# First value returned : X will be an array that will be containing tuples of (x,y) coordinates of point\n",
    "# Second value returned : y will be +1 or -1 as it would be correctly classification class of +1 or -1.\n",
    "\n",
    "X,y=generate_dataset(150,150)\n",
    "\n",
    "# To get as many points pass arguments here"
   ]
  },
  {
   "cell_type": "markdown",
   "metadata": {
    "colab_type": "text",
    "id": "M9u1MV7ANqWV"
   },
   "source": [
    "### Task 2\n",
    "\n",
    "When you are given a dataset for which you do not have access the the target function $f$ which maps $\\mathcal{X}$ to $\\mathcal{Y}$. You learn it from the data. In this problem, it is akin to learning the parameters of the line that separates the two classes. The same line above can be represented as $$\\sum_{i=0}^d w_i x_i = 0$$\n",
    "Notice that $i$ starts from $0$, instead of $1$. Can you think of why?\n",
    "\n",
    "The goal here is to correctly find out $\\bf{w}$. The algorithm to find it is a simple iterative process. \n",
    "1. Randomly choose a $w$ to begin with.\n",
    "2. Keep on adjusting the value of $\\bf{w}$ as follows until all data samples are correctly classified:\n",
    "3. Randomly choose a sample from the dataset and see if it is correctly classified. If yes,  move on to another sample.\n",
    "4. If not,  then  update the weights as $\\mathbf{w}^{t+1} = \\mathbf{w}^t + y \\cdot \\mathbf{x}$ , where \n",
    "    *   $\\mathbf{w}^{t+1}$ is value of $\\mathbf{w}$ at iteration $t+1$\n",
    "    *   $\\mathbf{w}^{t}$ is value of $\\mathbf{w}$ at iteration $t$\n",
    "    *  $y$ is the class label for the sample under consideration\n",
    "    * $\\mathbf{x}$ is the data-point under consideration\n",
    "    \n",
    "    \n",
    "Write a function that implements this learning algorithm. The input to the function is going to be a dataset represented by the input variable $X$ and the target variable $y$. The output of the function should be the chosen $\\mathbf{w}$.\n",
    "\n",
    "\n",
    "\n"
   ]
  },
  {
   "cell_type": "code",
   "execution_count": 148,
   "metadata": {
    "colab": {},
    "colab_type": "code",
    "id": "-IQCxqfcbN2i"
   },
   "outputs": [
    {
     "name": "stdout",
     "output_type": "stream",
     "text": [
      "1.6148425957023471\n",
      "9.604103217867547\n",
      "4.0\n"
     ]
    },
    {
     "data": {
      "text/plain": [
       "array([1.6148426 , 9.60410322, 4.        ])"
      ]
     },
     "execution_count": 148,
     "metadata": {},
     "output_type": "execute_result"
    },
    {
     "data": {
      "image/png": "[encoded data removed]",
      "text/plain": [
       "<Figure size 432x288 with 1 Axes>"
      ]
     },
     "metadata": {},
     "output_type": "display_data"
    }
   ],
   "source": [
    "import random\n",
    "%matplotlib inline\n",
    "import matplotlib.pyplot as plt\n",
    "def fit(X, y):\n",
    "#     print(len(X[0]))\n",
    "    w=np.zeros(len(X[0])+1)\n",
    "    length=len(y)\n",
    "    usedX=[]\n",
    "    dummyX=X.copy()\n",
    "    counter=0\n",
    "    while(counter<=length-1):\n",
    "        elementindex=random.randint(0,len(y)-1)\n",
    "        p=random.choice(X)\n",
    "        idx = X.index(p)\n",
    "#         print(\"index of element : \",elementindex)\n",
    "        if(p not in usedX):\n",
    "            pdash=list(p)\n",
    "            pdash.append(1)\n",
    "            pdashdash=np.array(pdash)\n",
    "#             print(\"pdash is : \",pdash)\n",
    "#             print(\"pdashdash is :\",pdashdash)\n",
    "            if(pdashdash.dot(w)>=0):\n",
    "                if(y[idx]==1):\n",
    "#                     print(\"success\")\n",
    "                    counter=counter+1\n",
    "#                     print(\"counter updated\")\n",
    "                    usedX.append(p)\n",
    "                    dummyX.remove(p)\n",
    "                else:\n",
    "                    w=w+pdashdash*y[idx]\n",
    "#             if(pdashdash.dot(w)<0):\n",
    "            else:\n",
    "                if(y[idx]<0):\n",
    "#                     print(\"success\")\n",
    "                    counter=counter+1\n",
    "#                     print(\"counter updated\")\n",
    "                    usedX.append(p)\n",
    "                    dummyX.remove(p)\n",
    "                else:\n",
    "                    w=w+pdashdash*y[idx]\n",
    "# VISUALIZATION PART : Here we simply check if y[i]==+1 or -1. If it is +1 then point the corresponding point from X[i]\n",
    "# in the blue point and if its -1 then plot corresponding point from X[i] in the red portion . NOTE : This plotting of \n",
    "# all blue and red points is according to original dataset that we received from the previous function. All points which are blue \n",
    "# were originally blue and those which are red were originally red and \"\"I havent plotted them as per my new line\"\". \n",
    "\n",
    "# PLotting of points goes here. \n",
    "    i=0\n",
    "    xlater=[]\n",
    "    ylater=[]\n",
    "    for i in range(0,len(y)-1):\n",
    "        if(y[i]==+1) :       \n",
    "            p,q=X[i]\n",
    "#             print(p)\n",
    "#             print(\"   \",q)\n",
    "#             print(y[i],\"\\n\")\n",
    "            i=i+1 \n",
    "            plt.plot(p,q,'o',color=\"blue\")\n",
    "            xlater.append(p)\n",
    "            \n",
    "        if(y[i]==-1) :       \n",
    "            p,q=X[i]\n",
    "#             print(p)\n",
    "#             print(\"   \",q)\n",
    "#             print(y[i],\"\\n\")\n",
    "            i=i+1 \n",
    "            plt.plot(p,q,'+',color=\"red\")\n",
    "            xlater.append(p)\n",
    "#     print(\"length of w :\",len(w))\n",
    "    ii=0\n",
    "#     NOTE:   Here I needed to take the w[0],w[1] and w[3] as we cannot plot data points for higher dimensions other than this.\n",
    "# Thus , my funciton to classify works correctly for any number of dimensions , but for the sake of plotting I have taken for \n",
    "# granted that we will plot points only that can be fitted in two dimenions. BUT YESSS , THE CLASSIFICATION WORKS FOR HIGHER DIMENSIONS\n",
    "\n",
    "\n",
    "# PLOTTING OF LINE GOES HERE\n",
    "    for ii in range(len(w)):\n",
    "        print(w[ii])\n",
    "#     print(\"w is \", w)\n",
    "    a=round(w[0],3)\n",
    "    b=round(w[1],3)\n",
    "    c=round(w[2],3)   \n",
    "    for i in xlater:\n",
    "        ylater.append((-c-a*i)/b)\n",
    "        \n",
    "    plt.plot(xlater,ylater,label=\"{}x+{}y+{}=0\".format(a,b,c),color='green')\n",
    "    plt.legend()\n",
    "    plt.xlabel(\"X-Axis\")\n",
    "    plt.ylabel(\"Y-Axis\")\n",
    "\n",
    "    return w\n",
    "    pass\n",
    "\n",
    "fit(X,y)"
   ]
  },
  {
   "cell_type": "markdown",
   "metadata": {
    "colab_type": "text",
    "id": "SjnYiCSSb6oc"
   },
   "source": [
    "### Task 3\n",
    "Give an intuition of why the above algorithm converges for linearly separable data? We do not expect you to give a mathematic proof, but it would be great if you can provide one. You will get full points even if you just provide an intuition of a few lines. Including figures or mathematical equations is encouraged but not required."
   ]
  },
  {
   "cell_type": "code",
   "execution_count": 150,
   "metadata": {},
   "outputs": [
    {
     "data": {
      "text/plain": [
       "'Above algorithm simply works on \"weighted mean concept\" in case of linearly sepeated data.So, the starting of algorithm takes place in this manner. \\nFirst we assign all weight to 0 to start initially. It is totally unbiased currently as it will learn the \\nsamples and then change its weight accordingly. Now, suppose a example is taken and it is being incorrectly predicted \\nby current model. Now what happens is,  we will try to shift weighted mean towards that example and by doing this we are \\ncontributing its part in determining the weights of model. Suppose a example : Currently our model predicts -1 for \\na example and  correct class is +1. what we will do is, we will add its contribution by pulling the weight more towards itself by \\ndoing w(t+1) = w(t) + y*x = w(t) +(+1)X. Now as we can see it will increse its value of w as it was underpredicting the observation\\nOR we can say , it was classifying it as -1. So we induced some weight of +1  times X(weight of that observation). Doing this , overall \\nwe will get all sample points correctly classified with high accuracy sa each and every datapoint has contributed \\nto pulling weight towards itself and thus whole equation of line gets each points contribution . '"
      ]
     },
     "execution_count": 150,
     "metadata": {},
     "output_type": "execute_result"
    }
   ],
   "source": [
    "'''Above algorithm simply works on \"weighted mean concept\" in case of linearly sepeated data .So, the starting of algorithm takes place in this manner. \n",
    "First we assign all weight to 0 to start initially. It is totally unbiased currently as it will learn the \n",
    "samples and then change its weight accordingly. Now, suppose a example is taken and it is being incorrectly predicted \n",
    "by current model. Now what happens is,  we will try to shift weighted mean towards that example and by doing this we are \n",
    "contributing its part in determining the weights of model. Suppose a example : Currently our model predicts -1 for \n",
    "a example and  correct class is +1. what we will do is, we will add its contribution by pulling the weight more towards itself by \n",
    "doing w(t+1) = w(t) + y*x = w(t) +(+1)X. Now as we can see it will increse its value of w as it was underpredicting the observation\n",
    "OR we can say , it was classifying it as -1. So we induced some weight of +1  times X(weight of that observation). Doing this , overall \n",
    "we will get all sample points correctly classified with high accuracy sa each and every datapoint has contributed \n",
    "to pulling weight towards itself and thus whole equation of line gets each points contribution . Now as each data point pulls \n",
    "each weight towards each self, thus it nearly converges(tending to merge or meet at a point) for linearly seperated data.'''\n"
   ]
  },
  {
   "cell_type": "markdown",
   "metadata": {
    "colab_type": "text",
    "id": "WKl58tcccl4U"
   },
   "source": [
    "### Task 4\n",
    "What happens when the data is not linearly separable? What can be done to salvage the situation?"
   ]
  },
  {
   "cell_type": "code",
   "execution_count": 151,
   "metadata": {},
   "outputs": [
    {
     "data": {
      "text/plain": [
       "'Answer Task4: If the data is not linearly seperable, we cannot draw line between the two classes of datapoints.\\nThus we need to make some other function to seperate them. Take for example if class 1 data points are surrounding the \\npoints of class 0 on all the sides ie class 1 points are covering the cluster of the class 0 points. Now in such cases \\nwe can make circle or parabolic or hyper parabolic curves inside which the data points of class 0 would lie and outside \\nof which all other elements would lie.\\n\\nAlso there is method called  \"POLAR TRANSFORMATION\", in which each point on a plane is determined by a distance from \\na reference point and an angle from a reference direction. This way that cluster of points will have shifting towards new\\ncenters of NEW coordinate system. Thus all data points will shift by some quantity and this would result in data points \\ndistributed normally among the center of circle/ any other shape.\\n'"
      ]
     },
     "execution_count": 151,
     "metadata": {},
     "output_type": "execute_result"
    }
   ],
   "source": [
    "'''Answer Task4: If the data is not linearly seperable, we cannot draw line between the two classes of datapoints.\n",
    "Thus we need to make some other function to seperate them. Take for example if class 1 data points are surrounding the \n",
    "points of class 0 on all the sides ie class 1 points are covering the cluster of the class 0 points. Now in such cases \n",
    "we can make circle or parabolic or hyper parabolic curves inside which the data points of class 0 would lie and outside \n",
    "of which all other elements would lie.\n",
    "\n",
    "Also there is method called  \"POLAR TRANSFORMATION\", in which each point on a plane is determined by a distance from \n",
    "a reference point and an angle from a reference direction. This way that cluster of points will have shifting towards new\n",
    "centers of NEW coordinate system. Thus all data points will shift by some quantity and this would result in data points \n",
    "distributed normally among the center of circle/ any other shape.\n",
    "'''    "
   ]
  },
  {
   "cell_type": "markdown",
   "metadata": {
    "colab_type": "text",
    "id": "A0_H35ditn1_"
   },
   "source": [
    "## Question 2: Linear Regression (40 points)\n",
    "\n",
    "There are two ways of solving the linear regression problem. The first one is called ordinary least squares, where you learn the parameters of the model by using the closed-form differentitaion of the standard cost function. This method cannot be used if there is no closed-form solution to the derivative of the cost function. In this case, we resort to gradient descent which learn the parameters by iteratively updating them until it reaches the solution i.e. the minimum of the cost function. In this problem we are going to explore both of these implementations. \n",
    "\n",
    "Using the code that we are providing in the next few cells, you will:\n",
    "\n",
    "\n",
    "1. Implement linear regression using the ordinary least squares method\n",
    "2. Implement linear regression using gradient descent\n",
    "3. Execute both versions of the linear regression on sklearn's Boston Housing dataset. Plot your results. Which version executes faster? Explain why that is the case."
   ]
  },
  {
   "cell_type": "code",
   "execution_count": 169,
   "metadata": {
    "colab": {},
    "colab_type": "code",
    "id": "-40QUDB_hfZ-"
   },
   "outputs": [],
   "source": [
    "def feature_normalization(X):\n",
    "    '''\n",
    "    In this function we are going to do something similar to what we did in A0, \n",
    "    we are going to normalize all the features. Implement the following steps:\n",
    "    \n",
    "    - for each feature, calculate its mean\n",
    "    - substract the mean from their respective feature\n",
    "    - save the above result in the 'mu' variable\n",
    "    \n",
    "    - for each feature, calculate its standard deviation\n",
    "    - divide each feature by its standard deviation\n",
    "    - save the above result in the 'sigma' variable\n",
    "    \n",
    "    '''\n",
    "  \n",
    "    n = X.shape[1]\n",
    "    X_norm = X\n",
    "    mu = np.zeros(n)\n",
    "    sigma = np.zeros(n)\n",
    "    for i in range(0,n):\n",
    "        mu[i]=X[:,i].mean()\n",
    "    for i in range(0,n):\n",
    "        sigma[i]=X[:,i].std()\n",
    "#     Here I have used (x-mean)/sigma for calculating the X_norm. There was nothing mentioned about Xnorm , so had to do this way\n",
    "    for i in range(0,n):\n",
    "        X_norm[:,i]=(X[:,i]-mu[i])/sigma[i]\n",
    "    return X_norm, mu, sigma"
   ]
  },
  {
   "cell_type": "code",
   "execution_count": 170,
   "metadata": {
    "colab": {},
    "colab_type": "code",
    "id": "Cg-4siXinuPI"
   },
   "outputs": [],
   "source": [
    "def cost_function(X, y, theta):\n",
    "    '''\n",
    "    In this function we are going to... you guessed it...\n",
    "    Implement the cost function!\n",
    " \n",
    "    '''\n",
    "    cost = 0\n",
    "    m = y.size\n",
    "    l1=[]\n",
    "#     totalrows=X.shape[0]\n",
    "    for i in range(0,m):\n",
    "        l1.append(pow((X[i,:]*theta).sum()-y[i],2)/(m))\n",
    "    cost=sum(l1)\n",
    "    return cost"
   ]
  },
  {
   "cell_type": "code",
   "execution_count": 171,
   "metadata": {
    "colab": {},
    "colab_type": "code",
    "id": "fx-mfDnshhVW"
   },
   "outputs": [],
   "source": [
    "def gradient_descent(X, y, theta, learning_rate, num_iters):\n",
    "    m = y.size\n",
    "    J_history = np.zeros(num_iters)\n",
    "    for i in range(0, num_iters):\n",
    "        lenoftheta=len(theta)\n",
    "        pred=X.dot(theta)\n",
    "        for r in range(lenoftheta):\n",
    "            temp=X[:,r]\n",
    "            temp.shape=(m,1)\n",
    "            differentiation=2*(pred-y)*temp\n",
    "            theta[r]=theta[r]-learning_rate*differentiation.sum()\n",
    "        J_history[i] = cost_function(X, y, theta)\n",
    "#     print(\"    \",theta)\n",
    "    return theta, J_history"
   ]
  },
  {
   "cell_type": "code",
   "execution_count": 172,
   "metadata": {
    "colab": {},
    "colab_type": "code",
    "id": "3e0WkgewhkrY"
   },
   "outputs": [],
   "source": [
    "from numpy.linalg import inv\n",
    "def linearRegression_ols(X, y):\n",
    "    '''\n",
    "    Implement the closed-form (or ordinary least squares) solution for\n",
    "    linear regression. Save the result in the variable 'theta'.\n",
    "    More information can be found at: \n",
    "      https://en.wikipedia.org/wiki/Ordinary_least_squares\n",
    "    '''\n",
    "    theta = np.zeros((X.shape[1], 1))\n",
    "    theta=inv((X.transpose().dot(X))).dot(X.transpose()).dot(y)\n",
    "\n",
    "    return theta"
   ]
  },
  {
   "cell_type": "code",
   "execution_count": 173,
   "metadata": {
    "colab": {},
    "colab_type": "code",
    "id": "eEHDdwBAyPen"
   },
   "outputs": [],
   "source": [
    "# load dataset\n",
    "\n",
    "from sklearn.datasets import load_boston\n",
    "dataset = load_boston()\n",
    "X = dataset.data\n",
    "y = dataset.target\n",
    "m = y.size"
   ]
  },
  {
   "cell_type": "code",
   "execution_count": 174,
   "metadata": {
    "colab": {},
    "colab_type": "code",
    "id": "ZKLNvembyR8S"
   },
   "outputs": [
    {
     "name": "stdout",
     "output_type": "stream",
     "text": [
      "Normalizing Features ...\n"
     ]
    }
   ],
   "source": [
    "# Normalize features\n",
    "print('Normalizing Features ...')\n",
    "import numpy as np\n",
    "X, mu, sigma = feature_normalization(X)\n",
    "X = np.c_[np.ones(m), X]  # Add a column of ones to X"
   ]
  },
  {
   "cell_type": "code",
   "execution_count": 175,
   "metadata": {
    "colab": {},
    "colab_type": "code",
    "id": "DEIeF7LZyU43"
   },
   "outputs": [
    {
     "name": "stdout",
     "output_type": "stream",
     "text": [
      "Running gradient descent ...\n",
      "Theta computed from gradient descent : \n",
      "[ 2.25328063e+01  6.98321401e-16  1.88265403e-16  1.31886821e-14\n",
      "  1.81439930e-15 -2.86209456e-15  3.78918230e-15 -2.21280061e-15\n",
      " -3.22575033e-15 -2.63895572e-15 -8.79424533e-16 -7.95080268e-15\n",
      " -2.07050164e-14 -5.12852694e-15]\n"
     ]
    },
    {
     "data": {
      "image/png": "[encoded data removed]",
      "text/plain": [
       "<Figure size 432x288 with 1 Axes>"
      ]
     },
     "metadata": {},
     "output_type": "display_data"
    }
   ],
   "source": [
    "# Now we proceed with Gradient Descent\n",
    "# NOTE : my gradient descents alpha and algorithm is set in such a way that my algorithm converges and gets to minimum value \n",
    "# in small number of iterations. If you want to see slope of the graph to check whether it gradually decreases or not\n",
    "# plot graph for num_iters = no of iterations =20. You will observe details more clearly.\n",
    "print('Running gradient descent ...')\n",
    "\n",
    "# Choose some alpha value\n",
    "alpha = 0.000003\n",
    "num_iters = 400\n",
    "\n",
    "# Initialize theta and execute gradient descent\n",
    "theta = np.zeros(X.shape[1])\n",
    "theta, J_history = gradient_descent(X, y, theta, alpha, num_iters)\n",
    "\n",
    "# Plot the convergence graph\n",
    "plt.figure()\n",
    "plt.plot(np.arange(J_history.size), J_history)\n",
    "plt.xlabel('Number of iterations')\n",
    "plt.ylabel('Cost J')\n",
    "# Display gradient descent's result\n",
    "print('Theta computed from gradient descent : \\n{}'.format(theta))"
   ]
  },
  {
   "cell_type": "code",
   "execution_count": 177,
   "metadata": {
    "colab": {},
    "colab_type": "code",
    "id": "oxEh8LIdhWQz"
   },
   "outputs": [
    {
     "name": "stdout",
     "output_type": "stream",
     "text": [
      "Theta computed from OLS linear regression : \n",
      "[ 3.64911033e+01 -1.07170557e-01  4.63952195e-02  2.08602395e-02\n",
      "  2.68856140e+00 -1.77957587e+01  3.80475246e+00  7.51061703e-04\n",
      " -1.47575880e+00  3.05655038e-01 -1.23293463e-02 -9.53463555e-01\n",
      "  9.39251272e-03 -5.25466633e-01]\n"
     ]
    }
   ],
   "source": [
    "# Now we are going to use the ordinary least squares (OLS) linear regression\n",
    "\n",
    "# re-load dataset\n",
    "\n",
    "from sklearn.datasets import load_boston\n",
    "dataset = load_boston()\n",
    "\n",
    "X = dataset.data\n",
    "y = dataset.target\n",
    "m=y.size\n",
    "X = np.c_[np.ones(m), X] # Add intercept term to X\n",
    "\n",
    "theta = linearRegression_ols(X, y)\n",
    "\n",
    "# Display normal equation's result\n",
    "print('Theta computed from OLS linear regression : \\n{}'.format(theta))"
   ]
  },
  {
   "cell_type": "code",
   "execution_count": 184,
   "metadata": {},
   "outputs": [
    {
     "data": {
      "text/plain": [
       "'ANSWER 3: Ordinary least square runs much much faster as compared to gradient descent for our given dataset because \\nBoston dataset is a small dataset and we know that OLS works faster on smaller datasets as compared to Gradient Descent. \\nAlso we know that OLS has to do matrix dot products, Inverse and transpose which are computationally costly \\nif we have large no of observations or large number of columns. Also the issue we might have with gradient  descent is \\nit might be very very slow as per the learning rate. If learning rate is too slow, it would take much more time to converge to \\nthat point . Thus due to above reasons, OLS was more powerfull than gradient descent(PRIMARILY DUE TO SMALL DATASET)\\n'"
      ]
     },
     "execution_count": 184,
     "metadata": {},
     "output_type": "execute_result"
    }
   ],
   "source": [
    "'''ANSWER 3: Ordinary least square runs much much faster as compared to gradient descent for our given dataset because \n",
    "Boston dataset is a small dataset and we know that OLS works faster on smaller datasets as compared to Gradient Descent. \n",
    "Also we know that OLS has to do matrix dot products, Inverse and transpose which are computationally costly \n",
    "if we have large no of observations or large number of columns. Also the issue we might have with gradient  descent is \n",
    "it might be very very slow as per the learning rate. If learning rate is too slow, it would take much more time to converge to \n",
    "that point . Thus due to above reasons, OLS was more powerfull than gradient descent(PRIMARILY DUE TO SMALL DATASET)\n",
    "'''"
   ]
  },
  {
   "cell_type": "markdown",
   "metadata": {
    "colab_type": "text",
    "id": "M6M7dM3JJ4Ns"
   },
   "source": [
    "Now lets do gradient descent with L2-regularization (or Ridge Regression). The next 6 cells are a copy of the template that we provided above with a '_regularization' added at the end of the function name. Feel free to reuse the code that you wrote above but be sure to make the appropriate modifications to the necessary functions to add L2-regularization."
   ]
  },
  {
   "cell_type": "code",
   "execution_count": 185,
   "metadata": {
    "colab": {},
    "colab_type": "code",
    "id": "55TAK-OahXIe"
   },
   "outputs": [],
   "source": [
    "def feature_normalization_regularization(X):\n",
    "    '''\n",
    "    In this function we are going to do something similar to what we did in A0, \n",
    "    we are going to normalize all the features. Implement the following steps:\n",
    "    \n",
    "    - for each feature, calculate its mean\n",
    "    - substract the mean from their respective feature\n",
    "    - save the above result in the 'mu' variable\n",
    "    \n",
    "    - for each feature, calculate its standard deviation\n",
    "    - divide each feature by its standard deviation\n",
    "    - save the above result in the 'sigma' variable\n",
    "    \n",
    "    '''\n",
    "    n = X.shape[1]\n",
    "    X_norm = X\n",
    "    mu = np.zeros(n)\n",
    "    sigma = np.zeros(n)\n",
    "    for i in range(0,n):\n",
    "        mu[i]=X[:,i].mean()\n",
    "    for i in range(0,n):\n",
    "        sigma[i]=X[:,i].std()\n",
    "#     Here I have used (x-mean)/sigma for calculating the X_norm. There was nothing mentioned about Xnorm , so had to do this way\n",
    "    for i in range(0,n):\n",
    "        X_norm[:,i]=(X[:,i]-mu[i])/sigma[i]\n",
    "    \n",
    "    return X_norm, mu, sigma"
   ]
  },
  {
   "cell_type": "code",
   "execution_count": 186,
   "metadata": {
    "colab": {},
    "colab_type": "code",
    "id": "qwLekxJMKOEi"
   },
   "outputs": [],
   "source": [
    "def cost_function_regularization(X, y, theta):\n",
    "    '''\n",
    "    In this function we are going to... you guessed it...\n",
    "    Implement the cost function!\n",
    " \n",
    "    '''\n",
    "    lambdavalue=0.01\n",
    "    cost = 0\n",
    "    m = y.size\n",
    "    l1=[]\n",
    "    l2=[]\n",
    "#     totalrows=X.shape[0]\n",
    "    for i in range(0,m):\n",
    "        l1.append(pow((X[i,:]*theta).sum()-y[i],2)/(m/2))\n",
    "    for i in range(0,len(theta)):\n",
    "        l2.append(theta.dot(theta))\n",
    "    \n",
    "    cost=sum(l1)+lambdavalue*sum(l2)\n",
    "    return cost"
   ]
  },
  {
   "cell_type": "code",
   "execution_count": 187,
   "metadata": {
    "colab": {},
    "colab_type": "code",
    "id": "5FIZa_vUKQrO"
   },
   "outputs": [],
   "source": [
    "def gradient_descent_regularization(X, y, theta, learning_rate, num_iters):\n",
    "    m = y.size\n",
    "    J_history = np.zeros(num_iters)\n",
    "    for i in range(0, num_iters):\n",
    "#       '''\n",
    "#       Implement gradient descent for a single gradient step on the parameter \n",
    "#       vector theta. Save the result of each iteration on J_history.\n",
    "#       '''\n",
    "        lenoftheta=len(theta)\n",
    "        pred=X.dot(theta)\n",
    "        for r in range(lenoftheta):\n",
    "            temp=X[:,r]\n",
    "            temp.shape=(m,1)\n",
    "            differentiation=2*(pred-y)*temp\n",
    "            theta[r]= theta[r]-learning_rate*differentiation.sum() + 2*lambdavalue*theta[r]\n",
    "        J_history[i] = cost_function_regularization(X, y, theta)\n",
    "\n",
    "    return theta, J_history"
   ]
  },
  {
   "cell_type": "code",
   "execution_count": 188,
   "metadata": {
    "colab": {},
    "colab_type": "code",
    "id": "R500H0_PKT3d"
   },
   "outputs": [],
   "source": [
    "# load dataset\n",
    "\n",
    "from sklearn.datasets import load_boston\n",
    "dataset = load_boston()\n",
    "X = dataset.data\n",
    "y = dataset.target\n",
    "m = y.size"
   ]
  },
  {
   "cell_type": "code",
   "execution_count": 189,
   "metadata": {
    "colab": {},
    "colab_type": "code",
    "id": "9k-9UuXkKWT7"
   },
   "outputs": [
    {
     "name": "stdout",
     "output_type": "stream",
     "text": [
      "Normalizing Features ...\n"
     ]
    }
   ],
   "source": [
    "# Normalize features\n",
    "print('Normalizing Features ...')\n",
    "lambdavalue=0.01\n",
    "X, mu, sigma = feature_normalization_regularization(X)\n",
    "X = np.c_[np.ones(m), X]  # Add a column of ones to X"
   ]
  },
  {
   "cell_type": "code",
   "execution_count": 190,
   "metadata": {
    "colab": {},
    "colab_type": "code",
    "id": "E_TgDVLgKZVq"
   },
   "outputs": [
    {
     "name": "stdout",
     "output_type": "stream",
     "text": [
      "Running gradient descent ...\n",
      "Theta computed from gradient descent : \n",
      "[ 2.28300305e+01  4.74593727e-12  6.93241192e-13  8.41980242e-12\n",
      " -8.74688737e-13  7.82698132e-12 -7.29715920e-13  3.49293514e-12\n",
      "  1.89309574e-12 -2.78110344e-12 -8.15301578e-12  6.39355119e-12\n",
      " -9.37217795e-13  4.82958546e-12]\n"
     ]
    },
    {
     "data": {
      "image/png": "[encoded data removed]",
      "text/plain": [
       "<Figure size 432x288 with 1 Axes>"
      ]
     },
     "metadata": {},
     "output_type": "display_data"
    }
   ],
   "source": [
    "# Now we proceed with Gradient Descent\n",
    "\n",
    "print('Running gradient descent ...')\n",
    "\n",
    "# Choose some alpha value\n",
    "alpha = 0.000003\n",
    "num_iters = 400\n",
    "\n",
    "# Initialize theta and execute gradient descent\n",
    "theta = np.zeros(X.shape[1])\n",
    "theta, J_history = gradient_descent_regularization(X, y, theta, alpha, num_iters)\n",
    "\n",
    "# Plot the convergence graph\n",
    "plt.figure()\n",
    "plt.plot(np.arange(J_history.size), J_history)\n",
    "plt.xlabel('Number of iterations')\n",
    "plt.ylabel('Cost J')\n",
    "\n",
    "# Display gradient descent's result\n",
    "\n",
    "print('Theta computed from gradient descent : \\n{}'.format(theta))"
   ]
  },
  {
   "cell_type": "markdown",
   "metadata": {
    "colab_type": "text",
    "id": "yY9i61hZGjOl"
   },
   "source": [
    "## Question 3: Guess the function (25 points)\n",
    "\n",
    "Consider three datasets provided with this notebook, namely `data1.csv` and `data2.csv`. Each dataset has 1000 samples. Every sample has 5 features $x_1, x_2, \\ldots, x_5$ and a target variable $y$. In each of the datasets, the target variable has been generated from the features of a different unknown function $y$. In general, $$y=f(\\mathbf{x})=\\sum_{j} w_j \\prod_{i=1}^5 x_i^{k_{i;j}}$$ where $x_i$ is the $i^{\\text {th}}$ feature and $j$ denotes a particular term in the polynomial and $k_{i;j}$ is the power of the $i^{\\text{th}}$ feature in the $j^{\\text{th}}$ term. It can be any whole number from $0$ to $3$.\n",
    "\n",
    "Thus $y_1=f_1(\\mathbf{x})$;  $y_2=f_2(\\mathbf{x})$ and $y_3=f_3(\\mathbf{x})$.\n",
    "\n",
    "1. Find both the unknown target functions using the given datasets. Use the dedicated cells defined below to write the corresponding methodology and code.\n",
    "2. Define all your variables such that when we run the corresponding code cell, it should nicely print the correct output which supports your methodology and also prints the right answer.\n",
    "\n",
    "#### Hints:\n",
    "1. Rounding off will make things easy and we encourage it. For instance, you can write 2.98 as 3!"
   ]
  },
  {
   "cell_type": "markdown",
   "metadata": {
    "colab_type": "text",
    "id": "-s5oaMtDqAAk"
   },
   "source": [
    "### Methodology and answer for function 1"
   ]
  },
  {
   "cell_type": "code",
   "execution_count": 191,
   "metadata": {
    "colab": {},
    "colab_type": "code",
    "id": "DpQ-_-25qDbq"
   },
   "outputs": [],
   "source": [
    "## Code for function 1## Code for function 1\n",
    "\n",
    "# APPROACH: My approach to solve first one is just by the use of gradient descent. \n",
    "# I have used all functions we implemented in question 2\n",
    "\n",
    "import pandas as pd\n",
    "df=pd.read_csv(\"data1.csv\",header=None)\n",
    "X=df.iloc[:,:-1]\n",
    "y=df.iloc[:,-1]\n",
    "ylist=y.values.tolist()\n",
    "xlist=X.values.tolist()"
   ]
  },
  {
   "cell_type": "code",
   "execution_count": 193,
   "metadata": {},
   "outputs": [
    {
     "name": "stdout",
     "output_type": "stream",
     "text": [
      "Normalizing Features ...\n",
      "Running gradient descent ...\n",
      "Theta computed from gradient descent : \n",
      "[ 3.14332094e+00 -7.67402445e-01 -1.94262844e+00 -4.85397567e+00\n",
      "  1.05021102e+00  1.11582375e-03]\n"
     ]
    },
    {
     "data": {
      "image/png": "[encoded data removed]",
      "text/plain": [
       "<Figure size 432x288 with 1 Axes>"
      ]
     },
     "metadata": {},
     "output_type": "display_data"
    }
   ],
   "source": [
    "def feature_normalization_regularization(X):\n",
    "    n = X.shape[1]\n",
    "    X_norm = X\n",
    "    for i in range(0,n):\n",
    "        X_norm[:,i]=(X[:,i]-mu[i])/sigma[i]\n",
    "    return X_norm\n",
    "def cost_function_regularization(X, y, theta):\n",
    "    lambdavalue=0.01\n",
    "    cost = 0\n",
    "    m = y.size\n",
    "    l1=[]\n",
    "    l2=[]\n",
    "    for i in range(0,m):\n",
    "        l1.append(pow((X[i,:]*theta).sum()-y[i],2)/(m/2))\n",
    "    for i in range(0,len(theta)):\n",
    "        l2.append(theta.dot(theta))   \n",
    "    cost=sum(l1)+lambdavalue*sum(l2)\n",
    "    return cost\n",
    "\n",
    "def gradient_descent_regularization(X, y, theta, learning_rate, num_iters):\n",
    "    m = y.size\n",
    "#     print(\"m size is here : \",m)\n",
    "    J_history = np.zeros(num_iters)\n",
    "#     print(len(J_history))\n",
    "    for i in range(0, num_iters):\n",
    "        lenoftheta=len(theta)\n",
    "#         print(\"length of theta is here :\",lenoftheta)\n",
    "        pred=X.dot(theta)\n",
    "#         print(\"prediciton : \",pred)\n",
    "#         print(len(pred))\n",
    "        for r in range(lenoftheta):\n",
    "            temp=X[:,r]\n",
    "#             print(temp)\n",
    "            temp.shape=(m,1)\n",
    "#             print(temp)\n",
    "            differentiation=2*(pred-y).dot(temp)\n",
    "#             print(\"shape of differentiation : \",differentiation)\n",
    "            theta[r]= theta[r]-learning_rate*differentiation.sum() + 2*lambdavalue*theta[r]\n",
    "#             print(\"shape of theta[r] \",theta[r])\n",
    "#             print(\"theta[r] is : \",theta[r])\n",
    "        J_history[i] = cost_function_regularization(X, y, theta)\n",
    "\n",
    "    return theta, J_history\n",
    "# Normalize features\n",
    "print('Normalizing Features ...')\n",
    "lambdavalue=0.0001\n",
    "m=y.size\n",
    "# print(y.size)\n",
    "X=np.array(xlist)\n",
    "X = feature_normalization_regularization(X)\n",
    "X = np.c_[np.ones(m), X]  # Add a column of ones to X\n",
    "# print(X)\n",
    "# print(X.shape)\n",
    "print('Running gradient descent ...')\n",
    "\n",
    "# Choose some alpha value\n",
    "alpha = 0.000003\n",
    "num_iters = 400\n",
    "\n",
    "# Initialize theta and execute gradient descent\n",
    "theta = np.zeros(X.shape[1])\n",
    "# print(\"Here is shape\",X.shape[1])\n",
    "# print(theta)\n",
    "# print(type(theta))\n",
    "theta, J_history = gradient_descent_regularization(X, y, theta, alpha, num_iters)\n",
    "\n",
    "# Plot the convergence graph\n",
    "plt.figure()\n",
    "plt.plot(np.arange(J_history.size), J_history)\n",
    "plt.xlabel('Number of iterations')\n",
    "plt.ylabel('Cost J')\n",
    "\n",
    "# Display gradient descent's result\n",
    "\n",
    "print('Theta computed from gradient descent : \\n{}'.format(theta))"
   ]
  },
  {
   "cell_type": "markdown",
   "metadata": {
    "colab_type": "text",
    "id": "lyF_2EcAqFHJ"
   },
   "source": [
    "### Methodology and answer for function 2"
   ]
  },
  {
   "cell_type": "code",
   "execution_count": 194,
   "metadata": {
    "colab": {},
    "colab_type": "code",
    "id": "zE0UxTW7qH2p"
   },
   "outputs": [],
   "source": [
    "## Code for function 2\n",
    "\n",
    "\n",
    "# METHODOLOGY  : Use sklearn.preprocessing ---> PolynomialFeatures , so that we can generate almost all polynomials equally upto \n",
    "# certain limit of total (15 here). \n",
    "\n",
    "\n",
    "\n",
    "# \"\"\"FAILED\"\"\"  Methodology (Just for knowledge ) : First find all possible combinations of x1^(0,1,2,3)* x2^(0,1,2,3)* x3^(0,1,2,3)* x4^(0,1,2,3)* x5^(0,1,2,3)\n",
    "# now all these cases can be found by using itertools.combination([X1^k , X2^k , X3^k , X4^k , X5^k]) where k ranges \n",
    "#  from 0 to 3 for each and every values of X individually. \n",
    "# Now when I started implementing this, it was not infinite loop, but it took so much time that it hanged my jupyter notebook \n",
    "# and corrupted my file. It was like 9,00,000 iterations that it went into.Dont know why and how till now!! So had to come \n",
    "# with another better approach !!!"
   ]
  },
  {
   "cell_type": "code",
   "execution_count": 198,
   "metadata": {},
   "outputs": [
    {
     "data": {
      "text/plain": [
       "array([[ 0.45  , -0.2038,  2.1661, -1.3286, -1.3226],\n",
       "       [ 1.4311, -1.1823, -0.322 , -0.1791,  0.7288],\n",
       "       [-1.1278,  0.3957, -1.1105, -0.1856, -0.6614],\n",
       "       ...,\n",
       "       [ 0.9111, -0.313 ,  0.5424,  0.3638,  1.276 ],\n",
       "       [-0.1613,  0.1113,  1.0658,  0.232 ,  1.1472],\n",
       "       [-0.6831,  0.954 ,  1.1857,  1.8047, -0.779 ]])"
      ]
     },
     "execution_count": 198,
     "metadata": {},
     "output_type": "execute_result"
    }
   ],
   "source": [
    "# Load the csv file into df and some usefull variables are initialized.\n",
    "import pandas as pd\n",
    "df=pd.read_csv(\"data2.csv\",header=None)\n",
    "X=df.iloc[:,:-1]\n",
    "y=df.iloc[:,-1]\n",
    "x1col=df.iloc[:,0]\n",
    "ylist=y.values.tolist()\n",
    "xlist=X.values.tolist()\n",
    "# xlist\n",
    "from sklearn.preprocessing import PolynomialFeatures\n",
    "import numpy as np\n",
    "X =np.array(xlist)\n",
    "X"
   ]
  },
  {
   "cell_type": "code",
   "execution_count": 209,
   "metadata": {},
   "outputs": [
    {
     "data": {
      "text/plain": [
       "array([[ 1.00000000e+00,  4.50000000e-01, -2.03800000e-01, ...,\n",
       "        -6.68896980e+01, -6.65876220e+01, -6.62869101e+01],\n",
       "       [ 1.00000000e+00,  1.43110000e+00, -1.18230000e+00, ...,\n",
       "         5.24928199e-04, -2.13605623e-03,  8.69211492e-03],\n",
       "       [ 1.00000000e+00, -1.12780000e+00,  3.95700000e-01, ...,\n",
       "        -1.59657903e-04, -5.68953325e-04, -2.02750932e-03],\n",
       "       ...,\n",
       "       [ 1.00000000e+00,  9.11100000e-01, -3.13000000e-01, ...,\n",
       "         3.14618428e+00,  1.10349949e+01,  3.87043801e+01],\n",
       "       [ 1.00000000e+00, -1.61300000e-01,  1.11300000e-01, ...,\n",
       "         3.20837237e-01,  1.58648482e+00,  7.84489391e+00],\n",
       "       [ 1.00000000e+00, -6.83100000e-01,  9.54000000e-01, ...,\n",
       "        -1.26705943e-01,  5.46927078e-02, -2.36081451e-02]])"
      ]
     },
     "execution_count": 209,
     "metadata": {},
     "output_type": "execute_result"
    }
   ],
   "source": [
    "# Generated all possible vaules untill\n",
    "poly = PolynomialFeatures(degree=15)\n",
    "# Generating all values that has total maximum power of 15 and all less powers are counted in it with different proportion \n",
    "# of different X. example : 1, x^2, X1^2*X2^1 , etc.... So it was a perfect fit function\n",
    "polyfit=poly.fit_transform(X)\n",
    "polyfit"
   ]
  },
  {
   "cell_type": "code",
   "execution_count": 210,
   "metadata": {},
   "outputs": [
    {
     "data": {
      "text/plain": [
       "array([-3.15649250e+05,  3.82985938e+04, -5.86148906e+04, ...,\n",
       "        6.65855408e-03, -9.25207138e-03, -3.46541405e-04])"
      ]
     },
     "execution_count": 210,
     "metadata": {},
     "output_type": "execute_result"
    }
   ],
   "source": [
    "w=np.zeros(1)*polyfit[1]\n",
    "from numpy.linalg import inv\n",
    "theta = np.zeros((polyfit.shape[1], 1))\n",
    "# print(theta)\n",
    "# print(theta.size)\n",
    "theta=(inv(polyfit.transpose().dot(polyfit))).dot(polyfit.transpose().dot(ylist))\n",
    "\n",
    "theta\n",
    "\n",
    "#WAIT FOR THE CODE TO RUN : IT GIVES CORRECT VALUES IN NEARLY MAXIMUM 2 MINUTES ."
   ]
  }
 ],
 "metadata": {
  "colab": {
   "collapsed_sections": [],
   "name": "P556_Assignment1v2.ipynb",
   "provenance": [],
   "version": "0.3.2"
  },
  "kernelspec": {
   "display_name": "Python 3",
   "language": "python",
   "name": "python3"
  },
  "language_info": {
   "codemirror_mode": {
    "name": "ipython",
    "version": 3
   },
   "file_extension": ".py",
   "mimetype": "text/x-python",
   "name": "python",
   "nbconvert_exporter": "python",
   "pygments_lexer": "ipython3",
   "version": "3.6.5"
  }
 },
 "nbformat": 4,
 "nbformat_minor": 1
}
